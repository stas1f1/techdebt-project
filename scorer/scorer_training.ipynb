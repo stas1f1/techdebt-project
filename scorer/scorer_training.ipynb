{
 "cells": [
  {
   "cell_type": "markdown",
   "id": "c94d54ee-3ce9-4cde-89e9-b928ff607175",
   "metadata": {
    "tags": []
   },
   "source": [
    "# Setup"
   ]
  },
  {
   "cell_type": "code",
   "execution_count": 276,
   "id": "f671677e-25e8-456c-a421-4fed837994c7",
   "metadata": {},
   "outputs": [],
   "source": [
    "from transformers import RobertaTokenizer, RobertaForSequenceClassification, TrainingArguments\n",
    "from sklearn.model_selection import train_test_split\n",
    "import torch\n",
    "torch.cuda.empty_cache()\n",
    "import numpy as np\n",
    "import evaluate"
   ]
  },
  {
   "cell_type": "code",
   "execution_count": 3,
   "id": "8e2e16f1-f611-48df-850a-c30d76bd2bee",
   "metadata": {},
   "outputs": [
    {
     "name": "stdout",
     "output_type": "stream",
     "text": [
      "Sun Apr  9 17:43:11 2023       \n",
      "+-----------------------------------------------------------------------------+\n",
      "| NVIDIA-SMI 418.126.02   Driver Version: 418.126.02   CUDA Version: 10.1     |\n",
      "|-------------------------------+----------------------+----------------------+\n",
      "| GPU  Name        Persistence-M| Bus-Id        Disp.A | Volatile Uncorr. ECC |\n",
      "| Fan  Temp  Perf  Pwr:Usage/Cap|         Memory-Usage | GPU-Util  Compute M. |\n",
      "|===============================+======================+======================|\n",
      "|   0  Tesla V100-SXM2...  On   | 00000000:8A:00.0 Off |                    0 |\n",
      "| N/A   62C    P0   260W / 300W |  22282MiB / 32480MiB |    100%      Default |\n",
      "+-------------------------------+----------------------+----------------------+\n",
      "                                                                               \n",
      "+-----------------------------------------------------------------------------+\n",
      "| Processes:                                                       GPU Memory |\n",
      "|  GPU       PID   Type   Process name                             Usage      |\n",
      "|=============================================================================|\n",
      "+-----------------------------------------------------------------------------+\n"
     ]
    }
   ],
   "source": [
    "!nvidia-smi"
   ]
  },
  {
   "cell_type": "markdown",
   "id": "cd51ab67-28ab-4965-aa70-d278db776e19",
   "metadata": {
    "tags": []
   },
   "source": [
    "## Load model\n",
    "\n",
    "For the function name techdebt scorer,  we are training Microsoft's codebert-base RoBERTa-based model with SequenceClassification head.\n",
    "\n",
    "It would be logical to formulate the training task as NSP, but RoBERTa-based models do not train on NSP task, have a different sep token __\\</s>__ and do not have token_type_ids. Manuals say that you can just __omit all TTID logic__ and feed it different logical parts of the input (func name and arguments with body in this case), split by tokenizer.sep_token.\n",
    "\n",
    "We will be testing this hypothesis."
   ]
  },
  {
   "cell_type": "code",
   "execution_count": null,
   "id": "18644c36-6077-416b-8587-81f3a2240b0d",
   "metadata": {},
   "outputs": [],
   "source": [
    "model = RobertaForSequenceClassification.from_pretrained('microsoft/codebert-base')\n",
    "tokenizer = RobertaTokenizer.from_pretrained(\"microsoft/codebert-base\")"
   ]
  },
  {
   "cell_type": "markdown",
   "id": "2a3f424e-d350-4aa5-ae6e-76e11009761a",
   "metadata": {
    "jp-MarkdownHeadingCollapsed": true,
    "tags": []
   },
   "source": [
    "## Load data"
   ]
  },
  {
   "cell_type": "code",
   "execution_count": 183,
   "id": "ec183a97-3856-4fbb-97cf-8664b8a1e02e",
   "metadata": {},
   "outputs": [],
   "source": [
    "giga_df = pd.read_parquet(\"pyfunc_272k.parquet\").reset_index(drop=True)"
   ]
  },
  {
   "cell_type": "code",
   "execution_count": 184,
   "id": "cc618e5a-83ae-47bf-8c2f-119b0990ce9c",
   "metadata": {},
   "outputs": [
    {
     "data": {
      "text/plain": [
       "2331149"
      ]
     },
     "execution_count": 184,
     "metadata": {},
     "output_type": "execute_result"
    }
   ],
   "source": [
    "len(giga_df)"
   ]
  },
  {
   "cell_type": "code",
   "execution_count": 185,
   "id": "99af7679-3eab-4b3e-8dcf-571e8d4c6936",
   "metadata": {
    "tags": []
   },
   "outputs": [
    {
     "data": {
      "text/html": [
       "<div>\n",
       "<style scoped>\n",
       "    .dataframe tbody tr th:only-of-type {\n",
       "        vertical-align: middle;\n",
       "    }\n",
       "\n",
       "    .dataframe tbody tr th {\n",
       "        vertical-align: top;\n",
       "    }\n",
       "\n",
       "    .dataframe thead th {\n",
       "        text-align: right;\n",
       "    }\n",
       "</style>\n",
       "<table border=\"1\" class=\"dataframe\">\n",
       "  <thead>\n",
       "    <tr style=\"text-align: right;\">\n",
       "      <th></th>\n",
       "      <th>functionName</th>\n",
       "      <th>functionArgs</th>\n",
       "      <th>functionCode</th>\n",
       "    </tr>\n",
       "  </thead>\n",
       "  <tbody>\n",
       "    <tr>\n",
       "      <th>0</th>\n",
       "      <td>__init__</td>\n",
       "      <td>[self, allow, disallow, secure]</td>\n",
       "      <td>\\n\\ndef __init__(self, allow=None, disallow=No...</td>\n",
       "    </tr>\n",
       "    <tr>\n",
       "      <th>1</th>\n",
       "      <td>__init__</td>\n",
       "      <td>[self, field]</td>\n",
       "      <td>\\n\\ndef __init__(self, field):\\n    self.field...</td>\n",
       "    </tr>\n",
       "    <tr>\n",
       "      <th>2</th>\n",
       "      <td>__get__</td>\n",
       "      <td>[self, instance, owner]</td>\n",
       "      <td>\\n\\ndef __get__(self, instance, owner):\\n    i...</td>\n",
       "    </tr>\n",
       "    <tr>\n",
       "      <th>3</th>\n",
       "      <td>__set__</td>\n",
       "      <td>[self, instance, value]</td>\n",
       "      <td>\\n\\ndef __set__(self, instance, value):\\n    i...</td>\n",
       "    </tr>\n",
       "    <tr>\n",
       "      <th>4</th>\n",
       "      <td>__delete__</td>\n",
       "      <td>[self, instance]</td>\n",
       "      <td>\\n\\ndef __delete__(self, instance):\\n    del i...</td>\n",
       "    </tr>\n",
       "    <tr>\n",
       "      <th>...</th>\n",
       "      <td>...</td>\n",
       "      <td>...</td>\n",
       "      <td>...</td>\n",
       "    </tr>\n",
       "    <tr>\n",
       "      <th>2331144</th>\n",
       "      <td>find_ana_sq</td>\n",
       "      <td>[tass, squares]</td>\n",
       "      <td>\\n\\ndef find_ana_sq(tass, squares):\\n    all_s...</td>\n",
       "    </tr>\n",
       "    <tr>\n",
       "      <th>2331145</th>\n",
       "      <td>main</td>\n",
       "      <td>[]</td>\n",
       "      <td>\\n\\n@timed\\ndef main():\\n    words = get_words...</td>\n",
       "    </tr>\n",
       "    <tr>\n",
       "      <th>2331146</th>\n",
       "      <td>__init__</td>\n",
       "      <td>[self, name, path, drive_type, site_id]</td>\n",
       "      <td>\\n\\ndef __init__(self, name=None, path=None, d...</td>\n",
       "    </tr>\n",
       "    <tr>\n",
       "      <th>2331147</th>\n",
       "      <td>from_docker_envvars</td>\n",
       "      <td>[config]</td>\n",
       "      <td>\\n\\ndef from_docker_envvars(config):\\n    if (...</td>\n",
       "    </tr>\n",
       "    <tr>\n",
       "      <th>2331148</th>\n",
       "      <td>__init__</td>\n",
       "      <td>[]</td>\n",
       "      <td>\\n\\ndef __init__(*args, **kw):\\n    Component....</td>\n",
       "    </tr>\n",
       "  </tbody>\n",
       "</table>\n",
       "<p>2331149 rows × 3 columns</p>\n",
       "</div>"
      ],
      "text/plain": [
       "                functionName                             functionArgs  \\\n",
       "0                   __init__          [self, allow, disallow, secure]   \n",
       "1                   __init__                            [self, field]   \n",
       "2                    __get__                  [self, instance, owner]   \n",
       "3                    __set__                  [self, instance, value]   \n",
       "4                 __delete__                         [self, instance]   \n",
       "...                      ...                                      ...   \n",
       "2331144          find_ana_sq                          [tass, squares]   \n",
       "2331145                 main                                       []   \n",
       "2331146             __init__  [self, name, path, drive_type, site_id]   \n",
       "2331147  from_docker_envvars                                 [config]   \n",
       "2331148             __init__                                       []   \n",
       "\n",
       "                                              functionCode  \n",
       "0        \\n\\ndef __init__(self, allow=None, disallow=No...  \n",
       "1        \\n\\ndef __init__(self, field):\\n    self.field...  \n",
       "2        \\n\\ndef __get__(self, instance, owner):\\n    i...  \n",
       "3        \\n\\ndef __set__(self, instance, value):\\n    i...  \n",
       "4        \\n\\ndef __delete__(self, instance):\\n    del i...  \n",
       "...                                                    ...  \n",
       "2331144  \\n\\ndef find_ana_sq(tass, squares):\\n    all_s...  \n",
       "2331145  \\n\\n@timed\\ndef main():\\n    words = get_words...  \n",
       "2331146  \\n\\ndef __init__(self, name=None, path=None, d...  \n",
       "2331147  \\n\\ndef from_docker_envvars(config):\\n    if (...  \n",
       "2331148  \\n\\ndef __init__(*args, **kw):\\n    Component....  \n",
       "\n",
       "[2331149 rows x 3 columns]"
      ]
     },
     "execution_count": 185,
     "metadata": {},
     "output_type": "execute_result"
    }
   ],
   "source": [
    "giga_df"
   ]
  },
  {
   "cell_type": "markdown",
   "id": "4b8f5276-f95f-4444-b1da-51214be672e5",
   "metadata": {
    "tags": []
   },
   "source": [
    "## Process data\n",
    "To keep things simple and representative, we will  remove functions like \\_\\_init\\_\\_ and \\_\\_getitem\\_\\_, ones that contain decorators, and ones that exceed 512 tokens, truncating them"
   ]
  },
  {
   "cell_type": "code",
   "execution_count": null,
   "id": "05237243-015b-451c-be56-e0b1ac626702",
   "metadata": {},
   "outputs": [],
   "source": [
    "filt_df = giga_df[giga_df['functionCode'].str.startswith(\"\\n\\ndef \")]\n",
    "filt_df = filt_df[~filt_df['functionName'].str.startswith(\"__\")].reset_index(drop=True)\n",
    "\n",
    "sample_df = filt_df.head(100000)\n",
    "sample_df['functionCode'] = [s[s.find('('):] for s in sample_df['functionCode']]\n",
    "sample_df.head(5)"
   ]
  },
  {
   "cell_type": "markdown",
   "id": "b565d875-716b-4c3c-aa6a-4dea16c44be7",
   "metadata": {},
   "source": [
    "Now, we chose 50% of the functions and shuffle names with random ones in the dataset, checking that they do not end up being the same."
   ]
  },
  {
   "cell_type": "code",
   "execution_count": null,
   "id": "9bec9974-b208-4051-a83d-1f4e9502785b",
   "metadata": {},
   "outputs": [],
   "source": [
    "true_df = sample_df[:50000]\n",
    "true_df['label'] = np.full(len(true_df), 0)\n",
    "#0 - correct\n",
    "\n",
    "false_df = sample_df[50000:].reset_index(drop=True)\n",
    "\n",
    "function_names = false_df[\"functionName\"].to_list()\n",
    "function_names_new = np.random.permutation(filt_df[\"functionName\"].to_list())[:50000]\n",
    "\n",
    "has_intersections = True\n",
    "\n",
    "while has_intersections:\n",
    "    intersections = [i for i in range(len(function_names)) if function_names[i] == function_names_new[i]]\n",
    "    int_len = len(intersections)\n",
    "    if int_len == 0:\n",
    "        has_intersections = False\n",
    "    else:\n",
    "        print(\"more shuffling\")\n",
    "        function_names_new[intersections] = np.random.permutation(filt_df[\"functionName\"].to_list())[:int_len]\n",
    "\n",
    "false_df[\"functionName\"] = function_names_new\n",
    "false_df['label'] = np.full(len(false_df), 1)\n",
    "#1 - incorrect"
   ]
  },
  {
   "cell_type": "code",
   "execution_count": 215,
   "id": "f510d157-aefe-496c-aa73-5f20f1d4dcc5",
   "metadata": {},
   "outputs": [
    {
     "data": {
      "text/plain": [
       "100000"
      ]
     },
     "execution_count": 215,
     "metadata": {},
     "output_type": "execute_result"
    }
   ],
   "source": [
    "full_df = pd.concat([true_df, false_df]).reset_index(drop=True)\n",
    "len(full_df)"
   ]
  },
  {
   "cell_type": "markdown",
   "id": "e703d3d8-5d3e-4716-921c-a74702f6314c",
   "metadata": {},
   "source": [
    "RoBERTa-based models - which CodeBERT is - do not train on NSP task, have a different sep token \\</s> and do not have token_type_ids.\n",
    "Manuals say that you can just __omit all TTID logic__ and feed it different logical parts of the input (func name and arguments with body\n",
    "in this case), split by tokenizer.sep_token.\n",
    "\n",
    "So let's try it out!"
   ]
  },
  {
   "cell_type": "code",
   "execution_count": null,
   "id": "f3fdbd86-f0f6-4693-a51f-fd6ea915dc98",
   "metadata": {},
   "outputs": [],
   "source": [
    "full_df['tokenizedStr'] = [tokenizer(n + tokenizer.sep_token + c, max_length = 512, truncation = True, padding = True, return_tensors ='pt') for n,c in tqdm(full_df[['functionName', 'functionCode']].values)]"
   ]
  },
  {
   "cell_type": "code",
   "execution_count": 228,
   "id": "c48cb798-85bc-4293-87af-24096f0456c8",
   "metadata": {},
   "outputs": [
    {
     "data": {
      "text/html": [
       "<div>\n",
       "<style scoped>\n",
       "    .dataframe tbody tr th:only-of-type {\n",
       "        vertical-align: middle;\n",
       "    }\n",
       "\n",
       "    .dataframe tbody tr th {\n",
       "        vertical-align: top;\n",
       "    }\n",
       "\n",
       "    .dataframe thead th {\n",
       "        text-align: right;\n",
       "    }\n",
       "</style>\n",
       "<table border=\"1\" class=\"dataframe\">\n",
       "  <thead>\n",
       "    <tr style=\"text-align: right;\">\n",
       "      <th></th>\n",
       "      <th>functionName</th>\n",
       "      <th>functionArgs</th>\n",
       "      <th>functionCode</th>\n",
       "      <th>label</th>\n",
       "      <th>tokenizedStr</th>\n",
       "      <th>tokenizedStrLen</th>\n",
       "    </tr>\n",
       "  </thead>\n",
       "  <tbody>\n",
       "    <tr>\n",
       "      <th>0</th>\n",
       "      <td>get_attname</td>\n",
       "      <td>[self]</td>\n",
       "      <td>(self):\\n    return ('%s_json' % self.name)\\n</td>\n",
       "      <td>0</td>\n",
       "      <td>[input_ids, attention_mask]</td>\n",
       "      <td>27</td>\n",
       "    </tr>\n",
       "    <tr>\n",
       "      <th>1</th>\n",
       "      <td>contribute_to_class</td>\n",
       "      <td>[self, cls, name]</td>\n",
       "      <td>(self, cls, name):\\n    super(JSONField, self)...</td>\n",
       "      <td>0</td>\n",
       "      <td>[input_ids, attention_mask]</td>\n",
       "      <td>89</td>\n",
       "    </tr>\n",
       "    <tr>\n",
       "      <th>2</th>\n",
       "      <td>fix_init_kwarg</td>\n",
       "      <td>[self, sender, args, kwargs]</td>\n",
       "      <td>(self, sender, args, kwargs, **signal_kwargs):...</td>\n",
       "      <td>0</td>\n",
       "      <td>[input_ids, attention_mask]</td>\n",
       "      <td>112</td>\n",
       "    </tr>\n",
       "    <tr>\n",
       "      <th>3</th>\n",
       "      <td>formfield</td>\n",
       "      <td>[self]</td>\n",
       "      <td>(self, *args, **kwargs):\\n    kwargs['form_cla...</td>\n",
       "      <td>0</td>\n",
       "      <td>[input_ids, attention_mask]</td>\n",
       "      <td>53</td>\n",
       "    </tr>\n",
       "    <tr>\n",
       "      <th>4</th>\n",
       "      <td>get_internal_type</td>\n",
       "      <td>[self]</td>\n",
       "      <td>(self):\\n    return 'TextField'\\n</td>\n",
       "      <td>0</td>\n",
       "      <td>[input_ids, attention_mask]</td>\n",
       "      <td>21</td>\n",
       "    </tr>\n",
       "    <tr>\n",
       "      <th>...</th>\n",
       "      <td>...</td>\n",
       "      <td>...</td>\n",
       "      <td>...</td>\n",
       "      <td>...</td>\n",
       "      <td>...</td>\n",
       "      <td>...</td>\n",
       "    </tr>\n",
       "    <tr>\n",
       "      <th>99995</th>\n",
       "      <td>test_chef_retrieval</td>\n",
       "      <td>[self]</td>\n",
       "      <td>(self):\\n    wireless = None\\n    wired = None...</td>\n",
       "      <td>1</td>\n",
       "      <td>[input_ids, attention_mask]</td>\n",
       "      <td>230</td>\n",
       "    </tr>\n",
       "    <tr>\n",
       "      <th>99996</th>\n",
       "      <td>test_grad_penalty_gan</td>\n",
       "      <td>[self]</td>\n",
       "      <td>(self):\\n    return self._storedWiFiNetworks\\n</td>\n",
       "      <td>1</td>\n",
       "      <td>[input_ids, attention_mask]</td>\n",
       "      <td>28</td>\n",
       "    </tr>\n",
       "    <tr>\n",
       "      <th>99997</th>\n",
       "      <td>as_rgb</td>\n",
       "      <td>[self, networkId]</td>\n",
       "      <td>(self, networkId):\\n    for i in range(0, len(...</td>\n",
       "      <td>1</td>\n",
       "      <td>[input_ids, attention_mask]</td>\n",
       "      <td>243</td>\n",
       "    </tr>\n",
       "    <tr>\n",
       "      <th>99998</th>\n",
       "      <td>init_converter</td>\n",
       "      <td>[self]</td>\n",
       "      <td>(self):\\n    return True\\n</td>\n",
       "      <td>1</td>\n",
       "      <td>[input_ids, attention_mask]</td>\n",
       "      <td>18</td>\n",
       "    </tr>\n",
       "    <tr>\n",
       "      <th>99999</th>\n",
       "      <td>double_discriminator</td>\n",
       "      <td>[self]</td>\n",
       "      <td>(self):\\n    return [{'id': '80:1F:02:F9:16:1B...</td>\n",
       "      <td>1</td>\n",
       "      <td>[input_ids, attention_mask]</td>\n",
       "      <td>199</td>\n",
       "    </tr>\n",
       "  </tbody>\n",
       "</table>\n",
       "<p>100000 rows × 6 columns</p>\n",
       "</div>"
      ],
      "text/plain": [
       "                functionName                  functionArgs  \\\n",
       "0                get_attname                        [self]   \n",
       "1        contribute_to_class             [self, cls, name]   \n",
       "2             fix_init_kwarg  [self, sender, args, kwargs]   \n",
       "3                  formfield                        [self]   \n",
       "4          get_internal_type                        [self]   \n",
       "...                      ...                           ...   \n",
       "99995    test_chef_retrieval                        [self]   \n",
       "99996  test_grad_penalty_gan                        [self]   \n",
       "99997                 as_rgb             [self, networkId]   \n",
       "99998         init_converter                        [self]   \n",
       "99999   double_discriminator                        [self]   \n",
       "\n",
       "                                            functionCode  label  \\\n",
       "0          (self):\\n    return ('%s_json' % self.name)\\n      0   \n",
       "1      (self, cls, name):\\n    super(JSONField, self)...      0   \n",
       "2      (self, sender, args, kwargs, **signal_kwargs):...      0   \n",
       "3      (self, *args, **kwargs):\\n    kwargs['form_cla...      0   \n",
       "4                      (self):\\n    return 'TextField'\\n      0   \n",
       "...                                                  ...    ...   \n",
       "99995  (self):\\n    wireless = None\\n    wired = None...      1   \n",
       "99996     (self):\\n    return self._storedWiFiNetworks\\n      1   \n",
       "99997  (self, networkId):\\n    for i in range(0, len(...      1   \n",
       "99998                         (self):\\n    return True\\n      1   \n",
       "99999  (self):\\n    return [{'id': '80:1F:02:F9:16:1B...      1   \n",
       "\n",
       "                      tokenizedStr  tokenizedStrLen  \n",
       "0      [input_ids, attention_mask]               27  \n",
       "1      [input_ids, attention_mask]               89  \n",
       "2      [input_ids, attention_mask]              112  \n",
       "3      [input_ids, attention_mask]               53  \n",
       "4      [input_ids, attention_mask]               21  \n",
       "...                            ...              ...  \n",
       "99995  [input_ids, attention_mask]              230  \n",
       "99996  [input_ids, attention_mask]               28  \n",
       "99997  [input_ids, attention_mask]              243  \n",
       "99998  [input_ids, attention_mask]               18  \n",
       "99999  [input_ids, attention_mask]              199  \n",
       "\n",
       "[100000 rows x 6 columns]"
      ]
     },
     "execution_count": 228,
     "metadata": {},
     "output_type": "execute_result"
    }
   ],
   "source": [
    "full_df['tokenizedStrLen'] = [len(x['input_ids'][0]) for x in full_df['tokenizedStr']]\n",
    "full_df"
   ]
  },
  {
   "cell_type": "code",
   "execution_count": 235,
   "id": "aeffba35-0d9e-4576-a410-fad3585ee781",
   "metadata": {},
   "outputs": [],
   "source": [
    "untrunc_df = full_df[full_df['tokenizedStrLen'] < 512]"
   ]
  },
  {
   "cell_type": "markdown",
   "id": "58110333-8caf-4584-8f83-f2ae33166ba2",
   "metadata": {},
   "source": [
    "80/20 train/test split will be used"
   ]
  },
  {
   "cell_type": "code",
   "execution_count": 236,
   "id": "1ce20b13-2450-4793-8e60-69747b1cc6f3",
   "metadata": {},
   "outputs": [],
   "source": [
    "train, test = train_test_split(untrunc_df, test_size=0.2)"
   ]
  },
  {
   "cell_type": "code",
   "execution_count": 239,
   "id": "1104205e-491d-4d7c-a874-ea3dfabf7a47",
   "metadata": {},
   "outputs": [
    {
     "name": "stdout",
     "output_type": "stream",
     "text": [
      "train len: 72129, test len: 18033\n"
     ]
    }
   ],
   "source": [
    "print(f\"train len: {len(train)}, test len: {len(test)}\")"
   ]
  },
  {
   "cell_type": "markdown",
   "id": "5cb58421-d9f7-4d65-b8bf-6735aa947343",
   "metadata": {
    "tags": []
   },
   "source": [
    "# SС training"
   ]
  },
  {
   "cell_type": "code",
   "execution_count": 250,
   "id": "2597311a-ebe2-442a-ba59-9559f0ba8182",
   "metadata": {},
   "outputs": [
    {
     "name": "stderr",
     "output_type": "stream",
     "text": [
      "100%|██████████| 72129/72129 [00:00<00:00, 242325.44it/s]\n"
     ]
    }
   ],
   "source": [
    "inputs_train = tokenizer([n + tokenizer.sep_token + c for n,c in train[['functionName', 'functionCode']].values],\n",
    "                         return_tensors='pt', max_length=512,\n",
    "                         truncation=True, padding='max_length')"
   ]
  },
  {
   "cell_type": "code",
   "execution_count": 253,
   "id": "bfcb6d5c-d4ad-4f69-8707-a758c8884c08",
   "metadata": {},
   "outputs": [],
   "source": [
    "inputs_train['labels'] = torch.LongTensor([train['label'].to_list()]).T"
   ]
  },
  {
   "cell_type": "code",
   "execution_count": 252,
   "id": "b7c390aa-51aa-4ca3-bc0d-4e2d18fe0248",
   "metadata": {},
   "outputs": [],
   "source": [
    "inputs_test = tokenizer([n + tokenizer.sep_token + c for n,c in test[['functionName', 'functionCode']].values],\n",
    "                         return_tensors='pt', max_length=512,\n",
    "                         truncation=True, padding='max_length')"
   ]
  },
  {
   "cell_type": "code",
   "execution_count": 254,
   "id": "5980fe40-722b-4846-bb2f-b031e0c06b93",
   "metadata": {},
   "outputs": [],
   "source": [
    "inputs_test['labels'] = torch.LongTensor([test['label'].to_list()]).T"
   ]
  },
  {
   "cell_type": "code",
   "execution_count": 255,
   "id": "17fed636-415b-4454-823e-1e939427baa5",
   "metadata": {},
   "outputs": [],
   "source": [
    "class FunctionsDataset(torch.utils.data.Dataset):\n",
    "    def __init__(self, encodings):\n",
    "        self.encodings = encodings\n",
    "    def __getitem__(self, idx):\n",
    "        return {key: torch.tensor(val[idx]) for key, val in self.encodings.items()}\n",
    "    def __len__(self):\n",
    "        return len(self.encodings.input_ids)"
   ]
  },
  {
   "cell_type": "code",
   "execution_count": 263,
   "id": "843a29bc-48fb-4cc8-9b2e-27ffb384750b",
   "metadata": {},
   "outputs": [],
   "source": [
    "dataset_train = FunctionsDataset(inputs_train)\n",
    "dataset_test = FunctionsDataset(inputs_test)\n",
    "\n",
    "loader = torch.utils.data.DataLoader(dataset_train, batch_size=16, shuffle=True)"
   ]
  },
  {
   "cell_type": "code",
   "execution_count": null,
   "id": "f0970a40-3fbc-4d33-8efb-12ce12ea8546",
   "metadata": {},
   "outputs": [],
   "source": [
    "device = torch.device('cuda') if torch.cuda.is_available() else torch.device('cpu')\n",
    "# and move our model over to the selected device\n",
    "model.to(device)"
   ]
  },
  {
   "cell_type": "markdown",
   "id": "ca907795-26b6-436a-887e-c7c184d15103",
   "metadata": {
    "tags": []
   },
   "source": [
    "## TFTrainer training method"
   ]
  },
  {
   "cell_type": "code",
   "execution_count": 282,
   "id": "feec5b90-62f3-4264-b612-abf0ad7ae2a6",
   "metadata": {},
   "outputs": [
    {
     "name": "stderr",
     "output_type": "stream",
     "text": [
      "PyTorch: setting up devices\n",
      "The default value for the training argument `--report_to` will change in v5 (from all installed integrations to none). In v5, you will need to use `--report_to all` to get the same behavior as now. You should start updating your code and make this info disappear :-).\n"
     ]
    }
   ],
   "source": [
    "from transformers import Trainer, TrainingArguments\n",
    "\n",
    "training_args = TrainingArguments(output_dir=\"checkpoingnts\",\n",
    "                                  logging_dir = \"logging\",\n",
    "                                  logging_strategy=\"steps\",\n",
    "                                  logging_steps=400,\n",
    "                                  evaluation_strategy=\"epoch\",\n",
    "                                  num_train_epochs=5,\n",
    "                                  optim=\"adamw_torch\",\n",
    "                                  per_device_train_batch_size = 16,\n",
    "                                  per_device_eval_batch_size = 16,\n",
    "                                  learning_rate = 5e-5,\n",
    "                                 )\n",
    "\n",
    "metric = evaluate.load(\"f1\")\n",
    "\n",
    "def compute_metrics(eval_pred):\n",
    "    logits, labels = eval_pred\n",
    "    predictions = np.argmax(logits, axis=-1)\n",
    "    return metric.compute(predictions=predictions, references=labels)\n",
    "\n",
    "# Create a Trainer instance\n",
    "trainer = Trainer(\n",
    "    model=model,\n",
    "    args=training_args,\n",
    "    train_dataset=dataset_train,\n",
    "    eval_dataset=dataset_test,\n",
    "    compute_metrics=compute_metrics,\n",
    ")"
   ]
  },
  {
   "cell_type": "code",
   "execution_count": 283,
   "id": "debf874f-7e4e-468f-ad3b-2212800d2ead",
   "metadata": {},
   "outputs": [
    {
     "name": "stderr",
     "output_type": "stream",
     "text": [
      "***** Running training *****\n",
      "  Num examples = 72129\n",
      "  Num Epochs = 5\n",
      "  Instantaneous batch size per device = 16\n",
      "  Total train batch size (w. parallel, distributed & accumulation) = 16\n",
      "  Gradient Accumulation steps = 1\n",
      "  Total optimization steps = 22545\n",
      "  Number of trainable parameters = 124647170\n",
      "/tmp/ipykernel_21112/2919874237.py:5: UserWarning: To copy construct from a tensor, it is recommended to use sourceTensor.clone().detach() or sourceTensor.clone().detach().requires_grad_(True), rather than torch.tensor(sourceTensor).\n",
      "  return {key: torch.tensor(val[idx]) for key, val in self.encodings.items()}\n"
     ]
    },
    {
     "data": {
      "text/html": [
       "\n",
       "    <div>\n",
       "      \n",
       "      <progress value='22545' max='22545' style='width:300px; height:20px; vertical-align: middle;'></progress>\n",
       "      [22545/22545 3:33:43, Epoch 5/5]\n",
       "    </div>\n",
       "    <table border=\"1\" class=\"dataframe\">\n",
       "  <thead>\n",
       " <tr style=\"text-align: left;\">\n",
       "      <th>Epoch</th>\n",
       "      <th>Training Loss</th>\n",
       "      <th>Validation Loss</th>\n",
       "      <th>F1</th>\n",
       "    </tr>\n",
       "  </thead>\n",
       "  <tbody>\n",
       "    <tr>\n",
       "      <td>1</td>\n",
       "      <td>0.210100</td>\n",
       "      <td>0.211535</td>\n",
       "      <td>0.942434</td>\n",
       "    </tr>\n",
       "    <tr>\n",
       "      <td>2</td>\n",
       "      <td>0.126800</td>\n",
       "      <td>0.200887</td>\n",
       "      <td>0.947658</td>\n",
       "    </tr>\n",
       "    <tr>\n",
       "      <td>3</td>\n",
       "      <td>0.095400</td>\n",
       "      <td>0.206500</td>\n",
       "      <td>0.953583</td>\n",
       "    </tr>\n",
       "    <tr>\n",
       "      <td>4</td>\n",
       "      <td>0.043100</td>\n",
       "      <td>0.209041</td>\n",
       "      <td>0.959032</td>\n",
       "    </tr>\n",
       "    <tr>\n",
       "      <td>5</td>\n",
       "      <td>0.023800</td>\n",
       "      <td>0.229176</td>\n",
       "      <td>0.960475</td>\n",
       "    </tr>\n",
       "  </tbody>\n",
       "</table><p>"
      ],
      "text/plain": [
       "<IPython.core.display.HTML object>"
      ]
     },
     "metadata": {},
     "output_type": "display_data"
    },
    {
     "name": "stderr",
     "output_type": "stream",
     "text": [
      "Saving model checkpoint to checkpoingnts/checkpoint-500\n",
      "Configuration saved in checkpoingnts/checkpoint-500/config.json\n",
      "Model weights saved in checkpoingnts/checkpoint-500/pytorch_model.bin\n",
      "/tmp/ipykernel_21112/2919874237.py:5: UserWarning: To copy construct from a tensor, it is recommended to use sourceTensor.clone().detach() or sourceTensor.clone().detach().requires_grad_(True), rather than torch.tensor(sourceTensor).\n",
      "  return {key: torch.tensor(val[idx]) for key, val in self.encodings.items()}\n",
      "Saving model checkpoint to checkpoingnts/checkpoint-1000\n",
      "Configuration saved in checkpoingnts/checkpoint-1000/config.json\n",
      "Model weights saved in checkpoingnts/checkpoint-1000/pytorch_model.bin\n",
      "/tmp/ipykernel_21112/2919874237.py:5: UserWarning: To copy construct from a tensor, it is recommended to use sourceTensor.clone().detach() or sourceTensor.clone().detach().requires_grad_(True), rather than torch.tensor(sourceTensor).\n",
      "  return {key: torch.tensor(val[idx]) for key, val in self.encodings.items()}\n",
      "Saving model checkpoint to checkpoingnts/checkpoint-2000\n",
      "Configuration saved in checkpoingnts/checkpoint-2000/config.json\n",
      "Model weights saved in checkpoingnts/checkpoint-2000/pytorch_model.bin\n",
      "/tmp/ipykernel_21112/2919874237.py:5: UserWarning: To copy construct from a tensor, it is recommended to use sourceTensor.clone().detach() or sourceTensor.clone().detach().requires_grad_(True), rather than torch.tensor(sourceTensor).\n",
      "  return {key: torch.tensor(val[idx]) for key, val in self.encodings.items()}\n",
      "Saving model checkpoint to checkpoingnts/checkpoint-2500\n",
      "Configuration saved in checkpoingnts/checkpoint-2500/config.json\n",
      "Model weights saved in checkpoingnts/checkpoint-2500/pytorch_model.bin\n",
      "/tmp/ipykernel_21112/2919874237.py:5: UserWarning: To copy construct from a tensor, it is recommended to use sourceTensor.clone().detach() or sourceTensor.clone().detach().requires_grad_(True), rather than torch.tensor(sourceTensor).\n",
      "  return {key: torch.tensor(val[idx]) for key, val in self.encodings.items()}\n",
      "Saving model checkpoint to checkpoingnts/checkpoint-3000\n",
      "Configuration saved in checkpoingnts/checkpoint-3000/config.json\n",
      "Model weights saved in checkpoingnts/checkpoint-3000/pytorch_model.bin\n",
      "/tmp/ipykernel_21112/2919874237.py:5: UserWarning: To copy construct from a tensor, it is recommended to use sourceTensor.clone().detach() or sourceTensor.clone().detach().requires_grad_(True), rather than torch.tensor(sourceTensor).\n",
      "  return {key: torch.tensor(val[idx]) for key, val in self.encodings.items()}\n",
      "Saving model checkpoint to checkpoingnts/checkpoint-3500\n",
      "Configuration saved in checkpoingnts/checkpoint-3500/config.json\n",
      "Model weights saved in checkpoingnts/checkpoint-3500/pytorch_model.bin\n",
      "/tmp/ipykernel_21112/2919874237.py:5: UserWarning: To copy construct from a tensor, it is recommended to use sourceTensor.clone().detach() or sourceTensor.clone().detach().requires_grad_(True), rather than torch.tensor(sourceTensor).\n",
      "  return {key: torch.tensor(val[idx]) for key, val in self.encodings.items()}\n",
      "Saving model checkpoint to checkpoingnts/checkpoint-4000\n",
      "Configuration saved in checkpoingnts/checkpoint-4000/config.json\n",
      "Model weights saved in checkpoingnts/checkpoint-4000/pytorch_model.bin\n",
      "/tmp/ipykernel_21112/2919874237.py:5: UserWarning: To copy construct from a tensor, it is recommended to use sourceTensor.clone().detach() or sourceTensor.clone().detach().requires_grad_(True), rather than torch.tensor(sourceTensor).\n",
      "  return {key: torch.tensor(val[idx]) for key, val in self.encodings.items()}\n",
      "Saving model checkpoint to checkpoingnts/checkpoint-4500\n",
      "Configuration saved in checkpoingnts/checkpoint-4500/config.json\n",
      "Model weights saved in checkpoingnts/checkpoint-4500/pytorch_model.bin\n",
      "/tmp/ipykernel_21112/2919874237.py:5: UserWarning: To copy construct from a tensor, it is recommended to use sourceTensor.clone().detach() or sourceTensor.clone().detach().requires_grad_(True), rather than torch.tensor(sourceTensor).\n",
      "  return {key: torch.tensor(val[idx]) for key, val in self.encodings.items()}\n",
      "***** Running Evaluation *****\n",
      "  Num examples = 18033\n",
      "  Batch size = 16\n",
      "/tmp/ipykernel_21112/2919874237.py:5: UserWarning: To copy construct from a tensor, it is recommended to use sourceTensor.clone().detach() or sourceTensor.clone().detach().requires_grad_(True), rather than torch.tensor(sourceTensor).\n",
      "  return {key: torch.tensor(val[idx]) for key, val in self.encodings.items()}\n",
      "Saving model checkpoint to checkpoingnts/checkpoint-5000\n",
      "Configuration saved in checkpoingnts/checkpoint-5000/config.json\n",
      "Model weights saved in checkpoingnts/checkpoint-5000/pytorch_model.bin\n",
      "/tmp/ipykernel_21112/2919874237.py:5: UserWarning: To copy construct from a tensor, it is recommended to use sourceTensor.clone().detach() or sourceTensor.clone().detach().requires_grad_(True), rather than torch.tensor(sourceTensor).\n",
      "  return {key: torch.tensor(val[idx]) for key, val in self.encodings.items()}\n",
      "Saving model checkpoint to checkpoingnts/checkpoint-5500\n",
      "Configuration saved in checkpoingnts/checkpoint-5500/config.json\n",
      "Model weights saved in checkpoingnts/checkpoint-5500/pytorch_model.bin\n",
      "/tmp/ipykernel_21112/2919874237.py:5: UserWarning: To copy construct from a tensor, it is recommended to use sourceTensor.clone().detach() or sourceTensor.clone().detach().requires_grad_(True), rather than torch.tensor(sourceTensor).\n",
      "  return {key: torch.tensor(val[idx]) for key, val in self.encodings.items()}\n",
      "Saving model checkpoint to checkpoingnts/checkpoint-6000\n",
      "Configuration saved in checkpoingnts/checkpoint-6000/config.json\n",
      "Model weights saved in checkpoingnts/checkpoint-6000/pytorch_model.bin\n",
      "/tmp/ipykernel_21112/2919874237.py:5: UserWarning: To copy construct from a tensor, it is recommended to use sourceTensor.clone().detach() or sourceTensor.clone().detach().requires_grad_(True), rather than torch.tensor(sourceTensor).\n",
      "  return {key: torch.tensor(val[idx]) for key, val in self.encodings.items()}\n",
      "Saving model checkpoint to checkpoingnts/checkpoint-6500\n",
      "Configuration saved in checkpoingnts/checkpoint-6500/config.json\n",
      "Model weights saved in checkpoingnts/checkpoint-6500/pytorch_model.bin\n",
      "/tmp/ipykernel_21112/2919874237.py:5: UserWarning: To copy construct from a tensor, it is recommended to use sourceTensor.clone().detach() or sourceTensor.clone().detach().requires_grad_(True), rather than torch.tensor(sourceTensor).\n",
      "  return {key: torch.tensor(val[idx]) for key, val in self.encodings.items()}\n",
      "Saving model checkpoint to checkpoingnts/checkpoint-7000\n",
      "Configuration saved in checkpoingnts/checkpoint-7000/config.json\n",
      "Model weights saved in checkpoingnts/checkpoint-7000/pytorch_model.bin\n",
      "/tmp/ipykernel_21112/2919874237.py:5: UserWarning: To copy construct from a tensor, it is recommended to use sourceTensor.clone().detach() or sourceTensor.clone().detach().requires_grad_(True), rather than torch.tensor(sourceTensor).\n",
      "  return {key: torch.tensor(val[idx]) for key, val in self.encodings.items()}\n",
      "Saving model checkpoint to checkpoingnts/checkpoint-7500\n",
      "Configuration saved in checkpoingnts/checkpoint-7500/config.json\n",
      "Model weights saved in checkpoingnts/checkpoint-7500/pytorch_model.bin\n",
      "/tmp/ipykernel_21112/2919874237.py:5: UserWarning: To copy construct from a tensor, it is recommended to use sourceTensor.clone().detach() or sourceTensor.clone().detach().requires_grad_(True), rather than torch.tensor(sourceTensor).\n",
      "  return {key: torch.tensor(val[idx]) for key, val in self.encodings.items()}\n",
      "Saving model checkpoint to checkpoingnts/checkpoint-8000\n",
      "Configuration saved in checkpoingnts/checkpoint-8000/config.json\n",
      "Model weights saved in checkpoingnts/checkpoint-8000/pytorch_model.bin\n",
      "/tmp/ipykernel_21112/2919874237.py:5: UserWarning: To copy construct from a tensor, it is recommended to use sourceTensor.clone().detach() or sourceTensor.clone().detach().requires_grad_(True), rather than torch.tensor(sourceTensor).\n",
      "  return {key: torch.tensor(val[idx]) for key, val in self.encodings.items()}\n",
      "Saving model checkpoint to checkpoingnts/checkpoint-8500\n",
      "Configuration saved in checkpoingnts/checkpoint-8500/config.json\n",
      "Model weights saved in checkpoingnts/checkpoint-8500/pytorch_model.bin\n",
      "/tmp/ipykernel_21112/2919874237.py:5: UserWarning: To copy construct from a tensor, it is recommended to use sourceTensor.clone().detach() or sourceTensor.clone().detach().requires_grad_(True), rather than torch.tensor(sourceTensor).\n",
      "  return {key: torch.tensor(val[idx]) for key, val in self.encodings.items()}\n",
      "Saving model checkpoint to checkpoingnts/checkpoint-9000\n",
      "Configuration saved in checkpoingnts/checkpoint-9000/config.json\n",
      "Model weights saved in checkpoingnts/checkpoint-9000/pytorch_model.bin\n",
      "/tmp/ipykernel_21112/2919874237.py:5: UserWarning: To copy construct from a tensor, it is recommended to use sourceTensor.clone().detach() or sourceTensor.clone().detach().requires_grad_(True), rather than torch.tensor(sourceTensor).\n",
      "  return {key: torch.tensor(val[idx]) for key, val in self.encodings.items()}\n",
      "***** Running Evaluation *****\n",
      "  Num examples = 18033\n",
      "  Batch size = 16\n",
      "/tmp/ipykernel_21112/2919874237.py:5: UserWarning: To copy construct from a tensor, it is recommended to use sourceTensor.clone().detach() or sourceTensor.clone().detach().requires_grad_(True), rather than torch.tensor(sourceTensor).\n",
      "  return {key: torch.tensor(val[idx]) for key, val in self.encodings.items()}\n",
      "Saving model checkpoint to checkpoingnts/checkpoint-9500\n",
      "Configuration saved in checkpoingnts/checkpoint-9500/config.json\n",
      "Model weights saved in checkpoingnts/checkpoint-9500/pytorch_model.bin\n",
      "/tmp/ipykernel_21112/2919874237.py:5: UserWarning: To copy construct from a tensor, it is recommended to use sourceTensor.clone().detach() or sourceTensor.clone().detach().requires_grad_(True), rather than torch.tensor(sourceTensor).\n",
      "  return {key: torch.tensor(val[idx]) for key, val in self.encodings.items()}\n",
      "Saving model checkpoint to checkpoingnts/checkpoint-10000\n",
      "Configuration saved in checkpoingnts/checkpoint-10000/config.json\n",
      "Model weights saved in checkpoingnts/checkpoint-10000/pytorch_model.bin\n",
      "/tmp/ipykernel_21112/2919874237.py:5: UserWarning: To copy construct from a tensor, it is recommended to use sourceTensor.clone().detach() or sourceTensor.clone().detach().requires_grad_(True), rather than torch.tensor(sourceTensor).\n",
      "  return {key: torch.tensor(val[idx]) for key, val in self.encodings.items()}\n",
      "Saving model checkpoint to checkpoingnts/checkpoint-10500\n",
      "Configuration saved in checkpoingnts/checkpoint-10500/config.json\n",
      "Model weights saved in checkpoingnts/checkpoint-10500/pytorch_model.bin\n",
      "/tmp/ipykernel_21112/2919874237.py:5: UserWarning: To copy construct from a tensor, it is recommended to use sourceTensor.clone().detach() or sourceTensor.clone().detach().requires_grad_(True), rather than torch.tensor(sourceTensor).\n",
      "  return {key: torch.tensor(val[idx]) for key, val in self.encodings.items()}\n",
      "Saving model checkpoint to checkpoingnts/checkpoint-11000\n",
      "Configuration saved in checkpoingnts/checkpoint-11000/config.json\n",
      "Model weights saved in checkpoingnts/checkpoint-11000/pytorch_model.bin\n",
      "/tmp/ipykernel_21112/2919874237.py:5: UserWarning: To copy construct from a tensor, it is recommended to use sourceTensor.clone().detach() or sourceTensor.clone().detach().requires_grad_(True), rather than torch.tensor(sourceTensor).\n",
      "  return {key: torch.tensor(val[idx]) for key, val in self.encodings.items()}\n",
      "Saving model checkpoint to checkpoingnts/checkpoint-11500\n",
      "Configuration saved in checkpoingnts/checkpoint-11500/config.json\n",
      "Model weights saved in checkpoingnts/checkpoint-11500/pytorch_model.bin\n",
      "/tmp/ipykernel_21112/2919874237.py:5: UserWarning: To copy construct from a tensor, it is recommended to use sourceTensor.clone().detach() or sourceTensor.clone().detach().requires_grad_(True), rather than torch.tensor(sourceTensor).\n",
      "  return {key: torch.tensor(val[idx]) for key, val in self.encodings.items()}\n",
      "Saving model checkpoint to checkpoingnts/checkpoint-12000\n",
      "Configuration saved in checkpoingnts/checkpoint-12000/config.json\n",
      "Model weights saved in checkpoingnts/checkpoint-12000/pytorch_model.bin\n",
      "/tmp/ipykernel_21112/2919874237.py:5: UserWarning: To copy construct from a tensor, it is recommended to use sourceTensor.clone().detach() or sourceTensor.clone().detach().requires_grad_(True), rather than torch.tensor(sourceTensor).\n",
      "  return {key: torch.tensor(val[idx]) for key, val in self.encodings.items()}\n",
      "Saving model checkpoint to checkpoingnts/checkpoint-12500\n",
      "Configuration saved in checkpoingnts/checkpoint-12500/config.json\n",
      "Model weights saved in checkpoingnts/checkpoint-12500/pytorch_model.bin\n",
      "/tmp/ipykernel_21112/2919874237.py:5: UserWarning: To copy construct from a tensor, it is recommended to use sourceTensor.clone().detach() or sourceTensor.clone().detach().requires_grad_(True), rather than torch.tensor(sourceTensor).\n",
      "  return {key: torch.tensor(val[idx]) for key, val in self.encodings.items()}\n",
      "Saving model checkpoint to checkpoingnts/checkpoint-13000\n",
      "Configuration saved in checkpoingnts/checkpoint-13000/config.json\n",
      "Model weights saved in checkpoingnts/checkpoint-13000/pytorch_model.bin\n",
      "/tmp/ipykernel_21112/2919874237.py:5: UserWarning: To copy construct from a tensor, it is recommended to use sourceTensor.clone().detach() or sourceTensor.clone().detach().requires_grad_(True), rather than torch.tensor(sourceTensor).\n",
      "  return {key: torch.tensor(val[idx]) for key, val in self.encodings.items()}\n",
      "Saving model checkpoint to checkpoingnts/checkpoint-13500\n",
      "Configuration saved in checkpoingnts/checkpoint-13500/config.json\n",
      "Model weights saved in checkpoingnts/checkpoint-13500/pytorch_model.bin\n",
      "/tmp/ipykernel_21112/2919874237.py:5: UserWarning: To copy construct from a tensor, it is recommended to use sourceTensor.clone().detach() or sourceTensor.clone().detach().requires_grad_(True), rather than torch.tensor(sourceTensor).\n",
      "  return {key: torch.tensor(val[idx]) for key, val in self.encodings.items()}\n",
      "***** Running Evaluation *****\n",
      "  Num examples = 18033\n",
      "  Batch size = 16\n",
      "/tmp/ipykernel_21112/2919874237.py:5: UserWarning: To copy construct from a tensor, it is recommended to use sourceTensor.clone().detach() or sourceTensor.clone().detach().requires_grad_(True), rather than torch.tensor(sourceTensor).\n",
      "  return {key: torch.tensor(val[idx]) for key, val in self.encodings.items()}\n",
      "Saving model checkpoint to checkpoingnts/checkpoint-14000\n",
      "Configuration saved in checkpoingnts/checkpoint-14000/config.json\n",
      "Model weights saved in checkpoingnts/checkpoint-14000/pytorch_model.bin\n",
      "/tmp/ipykernel_21112/2919874237.py:5: UserWarning: To copy construct from a tensor, it is recommended to use sourceTensor.clone().detach() or sourceTensor.clone().detach().requires_grad_(True), rather than torch.tensor(sourceTensor).\n",
      "  return {key: torch.tensor(val[idx]) for key, val in self.encodings.items()}\n",
      "Saving model checkpoint to checkpoingnts/checkpoint-14500\n",
      "Configuration saved in checkpoingnts/checkpoint-14500/config.json\n",
      "Model weights saved in checkpoingnts/checkpoint-14500/pytorch_model.bin\n",
      "/tmp/ipykernel_21112/2919874237.py:5: UserWarning: To copy construct from a tensor, it is recommended to use sourceTensor.clone().detach() or sourceTensor.clone().detach().requires_grad_(True), rather than torch.tensor(sourceTensor).\n",
      "  return {key: torch.tensor(val[idx]) for key, val in self.encodings.items()}\n",
      "Saving model checkpoint to checkpoingnts/checkpoint-15000\n",
      "Configuration saved in checkpoingnts/checkpoint-15000/config.json\n",
      "Model weights saved in checkpoingnts/checkpoint-15000/pytorch_model.bin\n",
      "/tmp/ipykernel_21112/2919874237.py:5: UserWarning: To copy construct from a tensor, it is recommended to use sourceTensor.clone().detach() or sourceTensor.clone().detach().requires_grad_(True), rather than torch.tensor(sourceTensor).\n",
      "  return {key: torch.tensor(val[idx]) for key, val in self.encodings.items()}\n",
      "Saving model checkpoint to checkpoingnts/checkpoint-15500\n",
      "Configuration saved in checkpoingnts/checkpoint-15500/config.json\n",
      "Model weights saved in checkpoingnts/checkpoint-15500/pytorch_model.bin\n",
      "/tmp/ipykernel_21112/2919874237.py:5: UserWarning: To copy construct from a tensor, it is recommended to use sourceTensor.clone().detach() or sourceTensor.clone().detach().requires_grad_(True), rather than torch.tensor(sourceTensor).\n",
      "  return {key: torch.tensor(val[idx]) for key, val in self.encodings.items()}\n",
      "Saving model checkpoint to checkpoingnts/checkpoint-16000\n",
      "Configuration saved in checkpoingnts/checkpoint-16000/config.json\n",
      "Model weights saved in checkpoingnts/checkpoint-16000/pytorch_model.bin\n",
      "/tmp/ipykernel_21112/2919874237.py:5: UserWarning: To copy construct from a tensor, it is recommended to use sourceTensor.clone().detach() or sourceTensor.clone().detach().requires_grad_(True), rather than torch.tensor(sourceTensor).\n",
      "  return {key: torch.tensor(val[idx]) for key, val in self.encodings.items()}\n",
      "Saving model checkpoint to checkpoingnts/checkpoint-16500\n",
      "Configuration saved in checkpoingnts/checkpoint-16500/config.json\n",
      "Model weights saved in checkpoingnts/checkpoint-16500/pytorch_model.bin\n",
      "/tmp/ipykernel_21112/2919874237.py:5: UserWarning: To copy construct from a tensor, it is recommended to use sourceTensor.clone().detach() or sourceTensor.clone().detach().requires_grad_(True), rather than torch.tensor(sourceTensor).\n",
      "  return {key: torch.tensor(val[idx]) for key, val in self.encodings.items()}\n",
      "Saving model checkpoint to checkpoingnts/checkpoint-17000\n",
      "Configuration saved in checkpoingnts/checkpoint-17000/config.json\n",
      "Model weights saved in checkpoingnts/checkpoint-17000/pytorch_model.bin\n",
      "/tmp/ipykernel_21112/2919874237.py:5: UserWarning: To copy construct from a tensor, it is recommended to use sourceTensor.clone().detach() or sourceTensor.clone().detach().requires_grad_(True), rather than torch.tensor(sourceTensor).\n",
      "  return {key: torch.tensor(val[idx]) for key, val in self.encodings.items()}\n",
      "Saving model checkpoint to checkpoingnts/checkpoint-17500\n",
      "Configuration saved in checkpoingnts/checkpoint-17500/config.json\n",
      "Model weights saved in checkpoingnts/checkpoint-17500/pytorch_model.bin\n",
      "/tmp/ipykernel_21112/2919874237.py:5: UserWarning: To copy construct from a tensor, it is recommended to use sourceTensor.clone().detach() or sourceTensor.clone().detach().requires_grad_(True), rather than torch.tensor(sourceTensor).\n",
      "  return {key: torch.tensor(val[idx]) for key, val in self.encodings.items()}\n",
      "Saving model checkpoint to checkpoingnts/checkpoint-18000\n",
      "Configuration saved in checkpoingnts/checkpoint-18000/config.json\n",
      "Model weights saved in checkpoingnts/checkpoint-18000/pytorch_model.bin\n",
      "/tmp/ipykernel_21112/2919874237.py:5: UserWarning: To copy construct from a tensor, it is recommended to use sourceTensor.clone().detach() or sourceTensor.clone().detach().requires_grad_(True), rather than torch.tensor(sourceTensor).\n",
      "  return {key: torch.tensor(val[idx]) for key, val in self.encodings.items()}\n",
      "***** Running Evaluation *****\n",
      "  Num examples = 18033\n",
      "  Batch size = 16\n",
      "/tmp/ipykernel_21112/2919874237.py:5: UserWarning: To copy construct from a tensor, it is recommended to use sourceTensor.clone().detach() or sourceTensor.clone().detach().requires_grad_(True), rather than torch.tensor(sourceTensor).\n",
      "  return {key: torch.tensor(val[idx]) for key, val in self.encodings.items()}\n",
      "Saving model checkpoint to checkpoingnts/checkpoint-18500\n",
      "Configuration saved in checkpoingnts/checkpoint-18500/config.json\n",
      "Model weights saved in checkpoingnts/checkpoint-18500/pytorch_model.bin\n",
      "/tmp/ipykernel_21112/2919874237.py:5: UserWarning: To copy construct from a tensor, it is recommended to use sourceTensor.clone().detach() or sourceTensor.clone().detach().requires_grad_(True), rather than torch.tensor(sourceTensor).\n",
      "  return {key: torch.tensor(val[idx]) for key, val in self.encodings.items()}\n",
      "Saving model checkpoint to checkpoingnts/checkpoint-19000\n",
      "Configuration saved in checkpoingnts/checkpoint-19000/config.json\n",
      "Model weights saved in checkpoingnts/checkpoint-19000/pytorch_model.bin\n",
      "/tmp/ipykernel_21112/2919874237.py:5: UserWarning: To copy construct from a tensor, it is recommended to use sourceTensor.clone().detach() or sourceTensor.clone().detach().requires_grad_(True), rather than torch.tensor(sourceTensor).\n",
      "  return {key: torch.tensor(val[idx]) for key, val in self.encodings.items()}\n",
      "Saving model checkpoint to checkpoingnts/checkpoint-19500\n",
      "Configuration saved in checkpoingnts/checkpoint-19500/config.json\n",
      "Model weights saved in checkpoingnts/checkpoint-19500/pytorch_model.bin\n",
      "/tmp/ipykernel_21112/2919874237.py:5: UserWarning: To copy construct from a tensor, it is recommended to use sourceTensor.clone().detach() or sourceTensor.clone().detach().requires_grad_(True), rather than torch.tensor(sourceTensor).\n",
      "  return {key: torch.tensor(val[idx]) for key, val in self.encodings.items()}\n",
      "Saving model checkpoint to checkpoingnts/checkpoint-20000\n",
      "Configuration saved in checkpoingnts/checkpoint-20000/config.json\n",
      "Model weights saved in checkpoingnts/checkpoint-20000/pytorch_model.bin\n",
      "/tmp/ipykernel_21112/2919874237.py:5: UserWarning: To copy construct from a tensor, it is recommended to use sourceTensor.clone().detach() or sourceTensor.clone().detach().requires_grad_(True), rather than torch.tensor(sourceTensor).\n",
      "  return {key: torch.tensor(val[idx]) for key, val in self.encodings.items()}\n",
      "Saving model checkpoint to checkpoingnts/checkpoint-20500\n",
      "Configuration saved in checkpoingnts/checkpoint-20500/config.json\n",
      "Model weights saved in checkpoingnts/checkpoint-20500/pytorch_model.bin\n",
      "/tmp/ipykernel_21112/2919874237.py:5: UserWarning: To copy construct from a tensor, it is recommended to use sourceTensor.clone().detach() or sourceTensor.clone().detach().requires_grad_(True), rather than torch.tensor(sourceTensor).\n",
      "  return {key: torch.tensor(val[idx]) for key, val in self.encodings.items()}\n",
      "Saving model checkpoint to checkpoingnts/checkpoint-21000\n",
      "Configuration saved in checkpoingnts/checkpoint-21000/config.json\n",
      "Model weights saved in checkpoingnts/checkpoint-21000/pytorch_model.bin\n",
      "/tmp/ipykernel_21112/2919874237.py:5: UserWarning: To copy construct from a tensor, it is recommended to use sourceTensor.clone().detach() or sourceTensor.clone().detach().requires_grad_(True), rather than torch.tensor(sourceTensor).\n",
      "  return {key: torch.tensor(val[idx]) for key, val in self.encodings.items()}\n",
      "Saving model checkpoint to checkpoingnts/checkpoint-21500\n",
      "Configuration saved in checkpoingnts/checkpoint-21500/config.json\n",
      "Model weights saved in checkpoingnts/checkpoint-21500/pytorch_model.bin\n",
      "/tmp/ipykernel_21112/2919874237.py:5: UserWarning: To copy construct from a tensor, it is recommended to use sourceTensor.clone().detach() or sourceTensor.clone().detach().requires_grad_(True), rather than torch.tensor(sourceTensor).\n",
      "  return {key: torch.tensor(val[idx]) for key, val in self.encodings.items()}\n",
      "Saving model checkpoint to checkpoingnts/checkpoint-22000\n",
      "Configuration saved in checkpoingnts/checkpoint-22000/config.json\n",
      "Model weights saved in checkpoingnts/checkpoint-22000/pytorch_model.bin\n",
      "/tmp/ipykernel_21112/2919874237.py:5: UserWarning: To copy construct from a tensor, it is recommended to use sourceTensor.clone().detach() or sourceTensor.clone().detach().requires_grad_(True), rather than torch.tensor(sourceTensor).\n",
      "  return {key: torch.tensor(val[idx]) for key, val in self.encodings.items()}\n",
      "Saving model checkpoint to checkpoingnts/checkpoint-22500\n",
      "Configuration saved in checkpoingnts/checkpoint-22500/config.json\n",
      "Model weights saved in checkpoingnts/checkpoint-22500/pytorch_model.bin\n",
      "/tmp/ipykernel_21112/2919874237.py:5: UserWarning: To copy construct from a tensor, it is recommended to use sourceTensor.clone().detach() or sourceTensor.clone().detach().requires_grad_(True), rather than torch.tensor(sourceTensor).\n",
      "  return {key: torch.tensor(val[idx]) for key, val in self.encodings.items()}\n",
      "***** Running Evaluation *****\n",
      "  Num examples = 18033\n",
      "  Batch size = 16\n",
      "\n",
      "\n",
      "Training completed. Do not forget to share your model on huggingface.co/models =)\n",
      "\n",
      "\n"
     ]
    },
    {
     "data": {
      "text/plain": [
       "TrainOutput(global_step=22545, training_loss=0.10241379192172093, metrics={'train_runtime': 12824.3415, 'train_samples_per_second': 28.122, 'train_steps_per_second': 1.758, 'total_flos': 9.48896865603072e+16, 'train_loss': 0.10241379192172093, 'epoch': 5.0})"
      ]
     },
     "execution_count": 283,
     "metadata": {},
     "output_type": "execute_result"
    }
   ],
   "source": [
    "# Start training\n",
    "trainer.train()"
   ]
  },
  {
   "cell_type": "code",
   "execution_count": 291,
   "id": "d9cf90bc-9ef0-46ea-9939-9b784d318a4a",
   "metadata": {},
   "outputs": [],
   "source": [
    "train_history = [obj for obj in trainer.state.log_history if 'loss' in obj.keys()]\n",
    "eval_history = [obj for obj in trainer.state.log_history if 'eval_loss' in obj.keys()]"
   ]
  },
  {
   "cell_type": "code",
   "execution_count": 310,
   "id": "287d1ba9-fe68-44ab-8ec8-aab6a7ce1dfa",
   "metadata": {},
   "outputs": [
    {
     "data": {
      "image/png": "[encoded data removed]",
      "text/plain": [
       "<Figure size 640x480 with 1 Axes>"
      ]
     },
     "metadata": {},
     "output_type": "display_data"
    }
   ],
   "source": [
    "import matplotlib.pyplot as plt\n",
    "\n",
    "x = [obj['step'] for obj in train_history]\n",
    "y = [obj['loss'] for obj in train_history]\n",
    "\n",
    "plt.title('Training loss')\n",
    "plt.plot(x,y)\n",
    "plt.xlabel('Step')\n",
    "plt.ylabel('Loss')\n",
    "plt.show()"
   ]
  },
  {
   "cell_type": "code",
   "execution_count": 318,
   "id": "62fead85-4fc7-4540-8448-504191941d33",
   "metadata": {},
   "outputs": [
    {
     "data": {
      "image/png": "[encoded data removed]",
      "text/plain": [
       "<Figure size 600x400 with 1 Axes>"
      ]
     },
     "metadata": {},
     "output_type": "display_data"
    },
    {
     "data": {
      "image/png": "[encoded data removed]",
      "text/plain": [
       "<Figure size 600x400 with 1 Axes>"
      ]
     },
     "metadata": {},
     "output_type": "display_data"
    }
   ],
   "source": [
    "import matplotlib.pyplot as plt\n",
    "\n",
    "x = [obj['epoch'] for obj in eval_history]\n",
    "y_loss = [obj['eval_loss'] for obj in eval_history]\n",
    "y_f1 = [obj['eval_f1'] for obj in eval_history]\n",
    "\n",
    "\n",
    "plt.figure(figsize=(6,4))\n",
    "plt.plot(x,y_loss)\n",
    "plt.title('Validation loss')\n",
    "plt.xlabel('Epoch')\n",
    "plt.ylabel('Loss')\n",
    "\n",
    "plt.figure(figsize=(6,4))\n",
    "plt.plot(x,y_f1)\n",
    "plt.title('Validation F1')\n",
    "plt.xlabel('Epoch')\n",
    "plt.ylabel('F1')\n",
    "plt.show()"
   ]
  },
  {
   "cell_type": "markdown",
   "id": "ae5b26c4-ab2e-4d52-8e01-022543d209ee",
   "metadata": {},
   "source": [
    "Epoch 4 (around 18k steps) seems like the best candidate, as after that model seems to overfit"
   ]
  },
  {
   "cell_type": "code",
   "execution_count": null,
   "id": "79cbdbd0-e294-4248-b636-75f62ead9e45",
   "metadata": {},
   "outputs": [],
   "source": []
  },
  {
   "cell_type": "markdown",
   "id": "49252922-77e5-4aef-94f0-4be9f0ee15b6",
   "metadata": {},
   "source": [
    " "
   ]
  },
  {
   "cell_type": "markdown",
   "id": "ef42663a-0415-4f86-800a-1e7de933a26a",
   "metadata": {},
   "source": [
    " "
   ]
  },
  {
   "cell_type": "markdown",
   "id": "9be96a50-f43c-4e5e-bdf6-1f5acd206598",
   "metadata": {
    "jp-MarkdownHeadingCollapsed": true,
    "tags": []
   },
   "source": [
    "## [Legacy] - PyTorch training method"
   ]
  },
  {
   "cell_type": "code",
   "execution_count": 261,
   "id": "39c35625-1719-4fe4-a15f-0feb8a9c5812",
   "metadata": {},
   "outputs": [],
   "source": [
    "from torch.optim import AdamW\n",
    "\n",
    "# activate training mode\n",
    "model.train()\n",
    "# initialize optimizer\n",
    "optim = AdamW(model.parameters(), lr=5e-6)"
   ]
  },
  {
   "cell_type": "code",
   "execution_count": null,
   "id": "c713d02a-a435-496c-b1f1-b655dfa2b0c5",
   "metadata": {},
   "outputs": [],
   "source": [
    "epochs = 5\n",
    "\n",
    "for epoch in range(epochs):\n",
    "    loop = tqdm(loader, leave=True)\n",
    "    for batch in loop:\n",
    "        optim.zero_grad()\n",
    "        \n",
    "        input_ids = batch['input_ids'].to(device)\n",
    "        attention_mask = batch['attention_mask'].to(device)\n",
    "        labels = batch['labels'].to(device)\n",
    "        outputs = model(input_ids, attention_mask=attention_mask,\n",
    "                        labels=labels)\n",
    "        \n",
    "        loss = outputs.loss\n",
    "        loss.backward()\n",
    "        optim.step()\n",
    "        \n",
    "        loop.set_description(f'Epoch {epoch}')\n",
    "        loop.set_postfix(loss=loss.item())\n",
    "    \n",
    "    "
   ]
  },
  {
   "cell_type": "code",
   "execution_count": null,
   "id": "7638b904-b7b1-4449-8846-3e03bac59ada",
   "metadata": {},
   "outputs": [],
   "source": []
  }
 ],
 "metadata": {
  "kernelspec": {
   "display_name": "Python 3 (ipykernel)",
   "language": "python",
   "name": "python3"
  },
  "language_info": {
   "codemirror_mode": {
    "name": "ipython",
    "version": 3
   },
   "file_extension": ".py",
   "mimetype": "text/x-python",
   "name": "python",
   "nbconvert_exporter": "python",
   "pygments_lexer": "ipython3",
   "version": "3.8.8"
  }
 },
 "nbformat": 4,
 "nbformat_minor": 5
}
