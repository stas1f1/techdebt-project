{
 "cells": [
  {
   "cell_type": "markdown",
   "id": "5d6b0598-20f6-4ab2-b5c4-e286a445ba82",
   "metadata": {},
   "source": [
    "# Setup"
   ]
  },
  {
   "cell_type": "code",
   "execution_count": 6,
   "id": "f125230b-a24d-4145-b9f4-b72953973058",
   "metadata": {},
   "outputs": [
    {
     "name": "stdout",
     "output_type": "stream",
     "text": [
      "Fri Apr  7 19:48:17 2023       \n",
      "+-----------------------------------------------------------------------------+\n",
      "| NVIDIA-SMI 418.126.02   Driver Version: 418.126.02   CUDA Version: 10.1     |\n",
      "|-------------------------------+----------------------+----------------------+\n",
      "| GPU  Name        Persistence-M| Bus-Id        Disp.A | Volatile Uncorr. ECC |\n",
      "| Fan  Temp  Perf  Pwr:Usage/Cap|         Memory-Usage | GPU-Util  Compute M. |\n",
      "|===============================+======================+======================|\n",
      "|   0  Tesla V100-SXM2...  On   | 00000000:8A:00.0 Off |                    0 |\n",
      "| N/A   60C    P0   287W / 300W |  19208MiB / 32480MiB |    100%      Default |\n",
      "+-------------------------------+----------------------+----------------------+\n",
      "                                                                               \n",
      "+-----------------------------------------------------------------------------+\n",
      "| Processes:                                                       GPU Memory |\n",
      "|  GPU       PID   Type   Process name                             Usage      |\n",
      "|=============================================================================|\n",
      "+-----------------------------------------------------------------------------+\n"
     ]
    }
   ],
   "source": [
    "!nvidia-smi"
   ]
  },
  {
   "cell_type": "code",
   "execution_count": 3,
   "id": "7080fdb2-ebf0-4bdc-b3f5-c1e64ff6690d",
   "metadata": {},
   "outputs": [],
   "source": [
    "from datasets import load_dataset\n",
    "from itertools import islice\n",
    "from tqdm import tqdm\n",
    "import pandas as pd\n",
    "import ast\n",
    "import astunparse"
   ]
  },
  {
   "cell_type": "markdown",
   "id": "f7326b8e-636d-4bc9-8f76-432a372736ac",
   "metadata": {},
   "source": [
    "## Parsing python code functions (name, args, code)\n",
    "\n",
    "we are using AST lib here, extracting all of the function definitions form the abstract syntax tree"
   ]
  },
  {
   "cell_type": "code",
   "execution_count": 4,
   "id": "084b55b2-1f6d-457d-b0a7-ba61f68711ee",
   "metadata": {},
   "outputs": [],
   "source": [
    "filename = \"code_sample/code_sample.py\"\n",
    "with open(filename) as file:\n",
    "    node = ast.parse(file.read())\n",
    "    \n",
    "def get_function_info(functionNode):\n",
    "    functionName = functionNode.name\n",
    "    functionArgs = [arg.arg for arg in functionNode.args.args]\n",
    "    functionCode = astunparse.unparse(functionNode)\n",
    "    return [functionName, functionArgs, functionCode]\n",
    "\n",
    "def code_to_functions_df(code):\n",
    "    node = ast.parse(code)\n",
    "    functions = [n for n in node.body if isinstance(n, ast.FunctionDef)]\n",
    "    classes = [n for n in node.body if isinstance(n, ast.ClassDef)]\n",
    "\n",
    "    standalone_functions = [get_function_info(function) for function in functions]\n",
    "    \n",
    "    class_functions = []\n",
    "        \n",
    "    for class_ in classes:\n",
    "        methods = [n for n in class_.body if isinstance(n, ast.FunctionDef)]\n",
    "        cur_class_functions = [get_function_info(method) for method in methods]\n",
    "        class_functions.extend(cur_class_functions)\n",
    "    \n",
    "    return pd.DataFrame(standalone_functions + class_functions,\n",
    "                      columns =['functionName', 'functionArgs', 'functionCode'])"
   ]
  },
  {
   "cell_type": "markdown",
   "id": "c63d0354-c673-426a-a556-c634c7ee7f15",
   "metadata": {},
   "source": [
    "## Loading datasets (going for 100000 examples now)"
   ]
  },
  {
   "cell_type": "code",
   "execution_count": 44,
   "id": "b246c3be-ea25-40de-b752-e3bd068205c9",
   "metadata": {},
   "outputs": [
    {
     "name": "stderr",
     "output_type": "stream",
     "text": [
      "100%|██████████| 100000/100000 [13:45<00:00, 121.11it/s]\n"
     ]
    }
   ],
   "source": [
    "ds = iter(load_dataset(\"codeparrot/github-code\", streaming=True,\n",
    "                  split=\"train\", languages=[\"Python\"]))\n",
    "pycode_sample = []\n",
    "for i in tqdm(range(100000)):\n",
    "    pycode_sample.append(next(ds)['code'])"
   ]
  },
  {
   "cell_type": "markdown",
   "id": "63c5cc05-8af8-42dc-8697-07182c5870fb",
   "metadata": {},
   "source": [
    "Now we extract function data from each file and concat it all into giant df, which we will then store as a parquet \n",
    "\n",
    "p.s. yes this is a dumb skip of all the files it can't parse, got too much data to care"
   ]
  },
  {
   "cell_type": "code",
   "execution_count": 54,
   "id": "04e884a8-90f2-4440-b3e0-ad6e1a63f037",
   "metadata": {},
   "outputs": [
    {
     "name": "stderr",
     "output_type": "stream",
     "text": [
      "100%|██████████| 100000/100000 [07:36<00:00, 218.99it/s]\n"
     ]
    }
   ],
   "source": [
    "pycode_sample_dfs = []\n",
    "for i in tqdm(range(100000)):\n",
    "    try:\n",
    "        pycode_sample_dfs.append(code_to_functions_df(pycode_sample[i]))\n",
    "    except Exception: \n",
    "        pass"
   ]
  },
  {
   "cell_type": "code",
   "execution_count": 55,
   "id": "df85dc41-76cd-478c-8608-6961958236e9",
   "metadata": {},
   "outputs": [
    {
     "data": {
      "text/plain": [
       "86279"
      ]
     },
     "execution_count": 55,
     "metadata": {},
     "output_type": "execute_result"
    }
   ],
   "source": [
    "len(pycode_sample_dfs)"
   ]
  },
  {
   "cell_type": "code",
   "execution_count": 56,
   "id": "612c8404-8402-4931-8799-127c36d352ca",
   "metadata": {},
   "outputs": [
    {
     "data": {
      "text/plain": [
       "746787"
      ]
     },
     "execution_count": 56,
     "metadata": {},
     "output_type": "execute_result"
    }
   ],
   "source": [
    "giga_df = pd.concat(pycode_sample_dfs)\n",
    "len(giga_df)"
   ]
  },
  {
   "cell_type": "code",
   "execution_count": 57,
   "id": "a09225f0-7bcf-486f-aa35-644338afbdee",
   "metadata": {},
   "outputs": [],
   "source": [
    "giga_df.to_parquet(\"pyfunc_86k.parquet\")"
   ]
  },
  {
   "cell_type": "markdown",
   "id": "2451805a-4d63-4728-8d86-8c35e739a030",
   "metadata": {},
   "source": [
    "100k py files => 86k readable => 746k functions => 136 MB of data"
   ]
  },
  {
   "cell_type": "code",
   "execution_count": 4,
   "id": "f5ba3bed-d64a-471e-bec5-97a51e2ed71c",
   "metadata": {},
   "outputs": [],
   "source": [
    "giga_df_2 = pd.read_parquet(\"pyfunc_86k.parquet\")"
   ]
  },
  {
   "cell_type": "code",
   "execution_count": 6,
   "id": "dec14711-ec21-4c7c-85a8-744b3eb55273",
   "metadata": {},
   "outputs": [
    {
     "data": {
      "text/plain": [
       "746787"
      ]
     },
     "execution_count": 6,
     "metadata": {},
     "output_type": "execute_result"
    }
   ],
   "source": [
    "len(giga_df_2)"
   ]
  },
  {
   "cell_type": "code",
   "execution_count": 5,
   "id": "46a1b19d-fd9b-4dfe-a807-78db949a3b90",
   "metadata": {},
   "outputs": [
    {
     "data": {
      "text/html": [
       "<div>\n",
       "<style scoped>\n",
       "    .dataframe tbody tr th:only-of-type {\n",
       "        vertical-align: middle;\n",
       "    }\n",
       "\n",
       "    .dataframe tbody tr th {\n",
       "        vertical-align: top;\n",
       "    }\n",
       "\n",
       "    .dataframe thead th {\n",
       "        text-align: right;\n",
       "    }\n",
       "</style>\n",
       "<table border=\"1\" class=\"dataframe\">\n",
       "  <thead>\n",
       "    <tr style=\"text-align: right;\">\n",
       "      <th></th>\n",
       "      <th>functionName</th>\n",
       "      <th>functionArgs</th>\n",
       "      <th>functionCode</th>\n",
       "    </tr>\n",
       "  </thead>\n",
       "  <tbody>\n",
       "    <tr>\n",
       "      <th>5</th>\n",
       "      <td>_json_reddit_objecter</td>\n",
       "      <td>[self, json_data]</td>\n",
       "      <td>\\n\\ndef _json_reddit_objecter(self, json_data)...</td>\n",
       "    </tr>\n",
       "    <tr>\n",
       "      <th>17</th>\n",
       "      <td>test_get_repositories_with_username_many</td>\n",
       "      <td>[self]</td>\n",
       "      <td>\\n\\ndef test_get_repositories_with_username_ma...</td>\n",
       "    </tr>\n",
       "    <tr>\n",
       "      <th>11</th>\n",
       "      <td>train_mnist_cnn</td>\n",
       "      <td>[DIST, local_rank, world_size, nccl_id, spars,...</td>\n",
       "      <td>\\n\\ndef train_mnist_cnn(DIST=False, local_rank...</td>\n",
       "    </tr>\n",
       "    <tr>\n",
       "      <th>2</th>\n",
       "      <td>post_run</td>\n",
       "      <td>[self]</td>\n",
       "      <td>\\n\\ndef post_run(self):\\n    pass\\n</td>\n",
       "    </tr>\n",
       "    <tr>\n",
       "      <th>2</th>\n",
       "      <td>init_jinja</td>\n",
       "      <td>[app]</td>\n",
       "      <td>\\n\\ndef init_jinja(app):\\n    _jinja_filters =...</td>\n",
       "    </tr>\n",
       "    <tr>\n",
       "      <th>10</th>\n",
       "      <td>pack</td>\n",
       "      <td>[self]</td>\n",
       "      <td>\\n\\ndef pack(self):\\n    raise NotImplementedE...</td>\n",
       "    </tr>\n",
       "    <tr>\n",
       "      <th>15</th>\n",
       "      <td>__init__</td>\n",
       "      <td>[self, n]</td>\n",
       "      <td>\\n\\ndef __init__(self, n):\\n    if (abs((n - i...</td>\n",
       "    </tr>\n",
       "    <tr>\n",
       "      <th>111</th>\n",
       "      <td>test_index_to_string_with_default_value</td>\n",
       "      <td>[self]</td>\n",
       "      <td>\\n\\ndef test_index_to_string_with_default_valu...</td>\n",
       "    </tr>\n",
       "    <tr>\n",
       "      <th>140</th>\n",
       "      <td>_clear_batch</td>\n",
       "      <td>[self, pp]</td>\n",
       "      <td>\\n\\ndef _clear_batch(self, pp: PrePrepare):\\n ...</td>\n",
       "    </tr>\n",
       "    <tr>\n",
       "      <th>58</th>\n",
       "      <td>filter</td>\n",
       "      <td>[self, values]</td>\n",
       "      <td>\\n\\n@debug()\\ndef filter(self, values):\\n    r...</td>\n",
       "    </tr>\n",
       "  </tbody>\n",
       "</table>\n",
       "</div>"
      ],
      "text/plain": [
       "                                 functionName  \\\n",
       "5                       _json_reddit_objecter   \n",
       "17   test_get_repositories_with_username_many   \n",
       "11                            train_mnist_cnn   \n",
       "2                                    post_run   \n",
       "2                                  init_jinja   \n",
       "10                                       pack   \n",
       "15                                   __init__   \n",
       "111   test_index_to_string_with_default_value   \n",
       "140                              _clear_batch   \n",
       "58                                     filter   \n",
       "\n",
       "                                          functionArgs  \\\n",
       "5                                    [self, json_data]   \n",
       "17                                              [self]   \n",
       "11   [DIST, local_rank, world_size, nccl_id, spars,...   \n",
       "2                                               [self]   \n",
       "2                                                [app]   \n",
       "10                                              [self]   \n",
       "15                                           [self, n]   \n",
       "111                                             [self]   \n",
       "140                                         [self, pp]   \n",
       "58                                      [self, values]   \n",
       "\n",
       "                                          functionCode  \n",
       "5    \\n\\ndef _json_reddit_objecter(self, json_data)...  \n",
       "17   \\n\\ndef test_get_repositories_with_username_ma...  \n",
       "11   \\n\\ndef train_mnist_cnn(DIST=False, local_rank...  \n",
       "2                  \\n\\ndef post_run(self):\\n    pass\\n  \n",
       "2    \\n\\ndef init_jinja(app):\\n    _jinja_filters =...  \n",
       "10   \\n\\ndef pack(self):\\n    raise NotImplementedE...  \n",
       "15   \\n\\ndef __init__(self, n):\\n    if (abs((n - i...  \n",
       "111  \\n\\ndef test_index_to_string_with_default_valu...  \n",
       "140  \\n\\ndef _clear_batch(self, pp: PrePrepare):\\n ...  \n",
       "58   \\n\\n@debug()\\ndef filter(self, values):\\n    r...  "
      ]
     },
     "execution_count": 5,
     "metadata": {},
     "output_type": "execute_result"
    }
   ],
   "source": [
    "giga_df_2.sample(10)"
   ]
  },
  {
   "cell_type": "markdown",
   "id": "fabad741-4713-4d30-9cfd-f81496fe9976",
   "metadata": {},
   "source": [
    "100k py files => 86k readable => 764k functions => 136 MB of data"
   ]
  },
  {
   "cell_type": "markdown",
   "id": "f3b81c58-f4a1-4f7b-90fd-e13b920848fe",
   "metadata": {},
   "source": [
    "320k py files => 272k readable => 2.33M functions => 429 MB of data"
   ]
  },
  {
   "cell_type": "markdown",
   "id": "98985326-e4ff-4c10-ab2a-82dbc4feb504",
   "metadata": {},
   "source": [
    "## Let's amp it up!!!! (3 million python files)\n",
    "(spoiler alert - I used only 3% of it ::)"
   ]
  },
  {
   "cell_type": "code",
   "execution_count": null,
   "id": "865265c0-2703-4ff4-b188-dbadfba2be80",
   "metadata": {},
   "outputs": [],
   "source": [
    "ds = iter(load_dataset(\"codeparrot/github-code\", streaming=True,\n",
    "                  split=\"train\", languages=[\"Python\"]))\n",
    "pycode_sample = []\n",
    "for i in tqdm(range(3000000)):\n",
    "    try:\n",
    "        pycode_sample.append(next(ds)['code'])\n",
    "    except Exception: \n",
    "        pass"
   ]
  },
  {
   "cell_type": "code",
   "execution_count": null,
   "id": "a58b3eb4-5f08-45fa-a55a-de21540f11b6",
   "metadata": {},
   "outputs": [],
   "source": [
    "len(pycode_sample)"
   ]
  },
  {
   "cell_type": "code",
   "execution_count": null,
   "id": "3f206608-f252-4a5b-99be-043ef156dc1c",
   "metadata": {},
   "outputs": [],
   "source": [
    "pycode_sample_dfs = []\n",
    "for i in tqdm(range(3000000)):\n",
    "    try:\n",
    "        pycode_sample_dfs.append(code_to_functions_df(pycode_sample[i]))\n",
    "    except Exception: \n",
    "        pass"
   ]
  },
  {
   "cell_type": "code",
   "execution_count": null,
   "id": "21e740b7-d0e0-474e-a17c-1bcbfb0ba0ed",
   "metadata": {},
   "outputs": [],
   "source": [
    "len(pycode_sample_dfs)"
   ]
  },
  {
   "cell_type": "code",
   "execution_count": null,
   "id": "fb3c3c67-f3c6-467e-9acb-386d485026aa",
   "metadata": {},
   "outputs": [],
   "source": [
    "giga_df_3 = pd.concat(pycode_sample_dfs)\n",
    "len(giga_df_3)"
   ]
  },
  {
   "cell_type": "code",
   "execution_count": null,
   "id": "94d844a1-952e-47b3-82c2-3a9bf589610a",
   "metadata": {},
   "outputs": [],
   "source": [
    "giga_df_3.to_parquet(\"pyfunc_3M.parquet\")"
   ]
  },
  {
   "cell_type": "markdown",
   "id": "608eaf6f-d775-4692-8d8f-823322699502",
   "metadata": {},
   "source": [
    "3M py files => 22M functions => 4 GB of data"
   ]
  }
 ],
 "metadata": {
  "kernelspec": {
   "display_name": "Python 3 (ipykernel)",
   "language": "python",
   "name": "python3"
  },
  "language_info": {
   "codemirror_mode": {
    "name": "ipython",
    "version": 3
   },
   "file_extension": ".py",
   "mimetype": "text/x-python",
   "name": "python",
   "nbconvert_exporter": "python",
   "pygments_lexer": "ipython3",
   "version": "3.8.8"
  }
 },
 "nbformat": 4,
 "nbformat_minor": 5
}
