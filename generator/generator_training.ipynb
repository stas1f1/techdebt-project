{
 "cells": [
  {
   "cell_type": "markdown",
   "id": "c94d54ee-3ce9-4cde-89e9-b928ff607175",
   "metadata": {
    "tags": []
   },
   "source": [
    "# Setup"
   ]
  },
  {
   "cell_type": "code",
   "execution_count": 1,
   "id": "f671677e-25e8-456c-a421-4fed837994c7",
   "metadata": {},
   "outputs": [],
   "source": [
    "import numpy as np\n",
    "import pandas as pd\n",
    "import torch\n",
    "torch.cuda.empty_cache()\n",
    "\n",
    "from sklearn.model_selection import train_test_split\n",
    "from datasets import load_dataset, load_metric, list_metrics\n",
    "from transformers import AutoModelForSeq2SeqLM, AutoTokenizer, DataCollator, T5ForConditionalGeneration, T5TokenizerFast\n",
    "\n",
    "from tqdm import tqdm\n",
    "\n",
    "from typing import Dict, List, Optional\n",
    "\n",
    "import dataclasses\n",
    "from dataclasses import dataclass, field\n",
    "\n",
    "import logging\n",
    "import os\n",
    "import sys\n",
    "\n",
    "from huggingface_hub import notebook_login\n",
    "\n",
    "import datasets\n",
    "from datasets import Dataset\n",
    "\n",
    "from transformers import(\n",
    "    T5ForConditionalGeneration, \n",
    "    RobertaTokenizer,\n",
    "    T5Tokenizer, \n",
    "    EvalPrediction,\n",
    "    DataCollator,\n",
    "    Trainer,\n",
    "    TrainingArguments)"
   ]
  },
  {
   "cell_type": "code",
   "execution_count": 2,
   "id": "8e2e16f1-f611-48df-850a-c30d76bd2bee",
   "metadata": {},
   "outputs": [
    {
     "name": "stdout",
     "output_type": "stream",
     "text": [
      "Mon Apr 10 14:31:45 2023       \n",
      "+-----------------------------------------------------------------------------+\n",
      "| NVIDIA-SMI 418.126.02   Driver Version: 418.126.02   CUDA Version: 10.1     |\n",
      "|-------------------------------+----------------------+----------------------+\n",
      "| GPU  Name        Persistence-M| Bus-Id        Disp.A | Volatile Uncorr. ECC |\n",
      "| Fan  Temp  Perf  Pwr:Usage/Cap|         Memory-Usage | GPU-Util  Compute M. |\n",
      "|===============================+======================+======================|\n",
      "|   0  Tesla V100-SXM2...  On   | 00000000:8A:00.0 Off |                    0 |\n",
      "| N/A   46C    P0    74W / 300W |  12200MiB / 32480MiB |    100%      Default |\n",
      "+-------------------------------+----------------------+----------------------+\n",
      "                                                                               \n",
      "+-----------------------------------------------------------------------------+\n",
      "| Processes:                                                       GPU Memory |\n",
      "|  GPU       PID   Type   Process name                             Usage      |\n",
      "|=============================================================================|\n",
      "+-----------------------------------------------------------------------------+\n"
     ]
    }
   ],
   "source": [
    "!nvidia-smi"
   ]
  },
  {
   "cell_type": "markdown",
   "id": "cd51ab67-28ab-4965-aa70-d278db776e19",
   "metadata": {
    "tags": []
   },
   "source": [
    "# Load model\n",
    "\n",
    "For the function name generator, we are training Salesforces's codebert-base CodeT5-base for Code Summarization with ConditionalGeneration head.\n",
    "\n",
    "The idea is that generating short function summatization and name for it is kind of a neighbouring task to code summaization in natural language, and by using a big corpus (300k is planned for t/t) model will switch it's main generation style from plain natural text to common function naming style. Dataset preprocessing is similar to how we did it in the scorer, except we do not add the negative-class training here - because generation (however negative-case training seems like an interesting perspective)"
   ]
  },
  {
   "cell_type": "code",
   "execution_count": 3,
   "id": "18644c36-6077-416b-8587-81f3a2240b0d",
   "metadata": {},
   "outputs": [],
   "source": [
    "checkpoint = \"Salesforce/codet5-base-multi-sum\"\n",
    "model = T5ForConditionalGeneration.from_pretrained(checkpoint)\n",
    "tokenizer = RobertaTokenizer.from_pretrained(checkpoint)"
   ]
  },
  {
   "cell_type": "markdown",
   "id": "2a3f424e-d350-4aa5-ae6e-76e11009761a",
   "metadata": {
    "tags": []
   },
   "source": [
    "# Load data"
   ]
  },
  {
   "cell_type": "markdown",
   "id": "b836238a-6cb5-4a14-bda9-b54ad8eadad3",
   "metadata": {
    "jp-MarkdownHeadingCollapsed": true,
    "tags": []
   },
   "source": [
    "## Load python code dataset"
   ]
  },
  {
   "cell_type": "code",
   "execution_count": 4,
   "id": "ec183a97-3856-4fbb-97cf-8664b8a1e02e",
   "metadata": {},
   "outputs": [],
   "source": [
    "giga_df = pd.read_parquet(\"pyfunc_272k.parquet\").reset_index(drop=True)"
   ]
  },
  {
   "cell_type": "code",
   "execution_count": 5,
   "id": "cc618e5a-83ae-47bf-8c2f-119b0990ce9c",
   "metadata": {},
   "outputs": [
    {
     "data": {
      "text/plain": [
       "2331149"
      ]
     },
     "execution_count": 5,
     "metadata": {},
     "output_type": "execute_result"
    }
   ],
   "source": [
    "len(giga_df)"
   ]
  },
  {
   "cell_type": "code",
   "execution_count": 6,
   "id": "99af7679-3eab-4b3e-8dcf-571e8d4c6936",
   "metadata": {
    "tags": []
   },
   "outputs": [
    {
     "data": {
      "text/html": [
       "<div>\n",
       "<style scoped>\n",
       "    .dataframe tbody tr th:only-of-type {\n",
       "        vertical-align: middle;\n",
       "    }\n",
       "\n",
       "    .dataframe tbody tr th {\n",
       "        vertical-align: top;\n",
       "    }\n",
       "\n",
       "    .dataframe thead th {\n",
       "        text-align: right;\n",
       "    }\n",
       "</style>\n",
       "<table border=\"1\" class=\"dataframe\">\n",
       "  <thead>\n",
       "    <tr style=\"text-align: right;\">\n",
       "      <th></th>\n",
       "      <th>functionName</th>\n",
       "      <th>functionArgs</th>\n",
       "      <th>functionCode</th>\n",
       "    </tr>\n",
       "  </thead>\n",
       "  <tbody>\n",
       "    <tr>\n",
       "      <th>0</th>\n",
       "      <td>__init__</td>\n",
       "      <td>[self, allow, disallow, secure]</td>\n",
       "      <td>\\n\\ndef __init__(self, allow=None, disallow=No...</td>\n",
       "    </tr>\n",
       "    <tr>\n",
       "      <th>1</th>\n",
       "      <td>__init__</td>\n",
       "      <td>[self, field]</td>\n",
       "      <td>\\n\\ndef __init__(self, field):\\n    self.field...</td>\n",
       "    </tr>\n",
       "    <tr>\n",
       "      <th>2</th>\n",
       "      <td>__get__</td>\n",
       "      <td>[self, instance, owner]</td>\n",
       "      <td>\\n\\ndef __get__(self, instance, owner):\\n    i...</td>\n",
       "    </tr>\n",
       "    <tr>\n",
       "      <th>3</th>\n",
       "      <td>__set__</td>\n",
       "      <td>[self, instance, value]</td>\n",
       "      <td>\\n\\ndef __set__(self, instance, value):\\n    i...</td>\n",
       "    </tr>\n",
       "    <tr>\n",
       "      <th>4</th>\n",
       "      <td>__delete__</td>\n",
       "      <td>[self, instance]</td>\n",
       "      <td>\\n\\ndef __delete__(self, instance):\\n    del i...</td>\n",
       "    </tr>\n",
       "    <tr>\n",
       "      <th>...</th>\n",
       "      <td>...</td>\n",
       "      <td>...</td>\n",
       "      <td>...</td>\n",
       "    </tr>\n",
       "    <tr>\n",
       "      <th>2331144</th>\n",
       "      <td>find_ana_sq</td>\n",
       "      <td>[tass, squares]</td>\n",
       "      <td>\\n\\ndef find_ana_sq(tass, squares):\\n    all_s...</td>\n",
       "    </tr>\n",
       "    <tr>\n",
       "      <th>2331145</th>\n",
       "      <td>main</td>\n",
       "      <td>[]</td>\n",
       "      <td>\\n\\n@timed\\ndef main():\\n    words = get_words...</td>\n",
       "    </tr>\n",
       "    <tr>\n",
       "      <th>2331146</th>\n",
       "      <td>__init__</td>\n",
       "      <td>[self, name, path, drive_type, site_id]</td>\n",
       "      <td>\\n\\ndef __init__(self, name=None, path=None, d...</td>\n",
       "    </tr>\n",
       "    <tr>\n",
       "      <th>2331147</th>\n",
       "      <td>from_docker_envvars</td>\n",
       "      <td>[config]</td>\n",
       "      <td>\\n\\ndef from_docker_envvars(config):\\n    if (...</td>\n",
       "    </tr>\n",
       "    <tr>\n",
       "      <th>2331148</th>\n",
       "      <td>__init__</td>\n",
       "      <td>[]</td>\n",
       "      <td>\\n\\ndef __init__(*args, **kw):\\n    Component....</td>\n",
       "    </tr>\n",
       "  </tbody>\n",
       "</table>\n",
       "<p>2331149 rows × 3 columns</p>\n",
       "</div>"
      ],
      "text/plain": [
       "                functionName                             functionArgs  \\\n",
       "0                   __init__          [self, allow, disallow, secure]   \n",
       "1                   __init__                            [self, field]   \n",
       "2                    __get__                  [self, instance, owner]   \n",
       "3                    __set__                  [self, instance, value]   \n",
       "4                 __delete__                         [self, instance]   \n",
       "...                      ...                                      ...   \n",
       "2331144          find_ana_sq                          [tass, squares]   \n",
       "2331145                 main                                       []   \n",
       "2331146             __init__  [self, name, path, drive_type, site_id]   \n",
       "2331147  from_docker_envvars                                 [config]   \n",
       "2331148             __init__                                       []   \n",
       "\n",
       "                                              functionCode  \n",
       "0        \\n\\ndef __init__(self, allow=None, disallow=No...  \n",
       "1        \\n\\ndef __init__(self, field):\\n    self.field...  \n",
       "2        \\n\\ndef __get__(self, instance, owner):\\n    i...  \n",
       "3        \\n\\ndef __set__(self, instance, value):\\n    i...  \n",
       "4        \\n\\ndef __delete__(self, instance):\\n    del i...  \n",
       "...                                                    ...  \n",
       "2331144  \\n\\ndef find_ana_sq(tass, squares):\\n    all_s...  \n",
       "2331145  \\n\\n@timed\\ndef main():\\n    words = get_words...  \n",
       "2331146  \\n\\ndef __init__(self, name=None, path=None, d...  \n",
       "2331147  \\n\\ndef from_docker_envvars(config):\\n    if (...  \n",
       "2331148  \\n\\ndef __init__(*args, **kw):\\n    Component....  \n",
       "\n",
       "[2331149 rows x 3 columns]"
      ]
     },
     "execution_count": 6,
     "metadata": {},
     "output_type": "execute_result"
    }
   ],
   "source": [
    "giga_df"
   ]
  },
  {
   "cell_type": "markdown",
   "id": "4b8f5276-f95f-4444-b1da-51214be672e5",
   "metadata": {
    "jp-MarkdownHeadingCollapsed": true,
    "tags": []
   },
   "source": [
    "## Process data\n",
    "To keep things simple, we will remove functions like \\_\\_init\\_\\_ and \\_\\_getitem\\_\\_ and ones that contain decorators"
   ]
  },
  {
   "cell_type": "code",
   "execution_count": 9,
   "id": "05237243-015b-451c-be56-e0b1ac626702",
   "metadata": {},
   "outputs": [
    {
     "name": "stderr",
     "output_type": "stream",
     "text": [
      "/tmp/ipykernel_68996/2191966603.py:5: SettingWithCopyWarning: \n",
      "A value is trying to be set on a copy of a slice from a DataFrame.\n",
      "Try using .loc[row_indexer,col_indexer] = value instead\n",
      "\n",
      "See the caveats in the documentation: https://pandas.pydata.org/pandas-docs/stable/user_guide/indexing.html#returning-a-view-versus-a-copy\n",
      "  sample_df['functionCode'] = [s[s.find('('):] for s in sample_df['functionCode']]\n"
     ]
    },
    {
     "data": {
      "text/html": [
       "<div>\n",
       "<style scoped>\n",
       "    .dataframe tbody tr th:only-of-type {\n",
       "        vertical-align: middle;\n",
       "    }\n",
       "\n",
       "    .dataframe tbody tr th {\n",
       "        vertical-align: top;\n",
       "    }\n",
       "\n",
       "    .dataframe thead th {\n",
       "        text-align: right;\n",
       "    }\n",
       "</style>\n",
       "<table border=\"1\" class=\"dataframe\">\n",
       "  <thead>\n",
       "    <tr style=\"text-align: right;\">\n",
       "      <th></th>\n",
       "      <th>functionName</th>\n",
       "      <th>functionArgs</th>\n",
       "      <th>functionCode</th>\n",
       "    </tr>\n",
       "  </thead>\n",
       "  <tbody>\n",
       "    <tr>\n",
       "      <th>0</th>\n",
       "      <td>get_attname</td>\n",
       "      <td>[self]</td>\n",
       "      <td>(self):\\n    return ('%s_json' % self.name)\\n</td>\n",
       "    </tr>\n",
       "    <tr>\n",
       "      <th>1</th>\n",
       "      <td>contribute_to_class</td>\n",
       "      <td>[self, cls, name]</td>\n",
       "      <td>(self, cls, name):\\n    super(JSONField, self)...</td>\n",
       "    </tr>\n",
       "    <tr>\n",
       "      <th>2</th>\n",
       "      <td>fix_init_kwarg</td>\n",
       "      <td>[self, sender, args, kwargs]</td>\n",
       "      <td>(self, sender, args, kwargs, **signal_kwargs):...</td>\n",
       "    </tr>\n",
       "    <tr>\n",
       "      <th>3</th>\n",
       "      <td>formfield</td>\n",
       "      <td>[self]</td>\n",
       "      <td>(self, *args, **kwargs):\\n    kwargs['form_cla...</td>\n",
       "    </tr>\n",
       "    <tr>\n",
       "      <th>4</th>\n",
       "      <td>get_internal_type</td>\n",
       "      <td>[self]</td>\n",
       "      <td>(self):\\n    return 'TextField'\\n</td>\n",
       "    </tr>\n",
       "  </tbody>\n",
       "</table>\n",
       "</div>"
      ],
      "text/plain": [
       "          functionName                  functionArgs  \\\n",
       "0          get_attname                        [self]   \n",
       "1  contribute_to_class             [self, cls, name]   \n",
       "2       fix_init_kwarg  [self, sender, args, kwargs]   \n",
       "3            formfield                        [self]   \n",
       "4    get_internal_type                        [self]   \n",
       "\n",
       "                                        functionCode  \n",
       "0      (self):\\n    return ('%s_json' % self.name)\\n  \n",
       "1  (self, cls, name):\\n    super(JSONField, self)...  \n",
       "2  (self, sender, args, kwargs, **signal_kwargs):...  \n",
       "3  (self, *args, **kwargs):\\n    kwargs['form_cla...  \n",
       "4                  (self):\\n    return 'TextField'\\n  "
      ]
     },
     "execution_count": 9,
     "metadata": {},
     "output_type": "execute_result"
    }
   ],
   "source": [
    "filt_df = giga_df[giga_df['functionCode'].str.startswith(\"\\n\\ndef \")]\n",
    "filt_df = filt_df[~filt_df['functionName'].str.startswith(\"__\")].reset_index(drop=True)\n",
    "\n",
    "sample_df = filt_df.head(100000)\n",
    "sample_df['functionCode'] = [s[s.find('('):] for s in sample_df['functionCode']]\n",
    "sample_df.head(5)"
   ]
  },
  {
   "cell_type": "code",
   "execution_count": 10,
   "id": "f510d157-aefe-496c-aa73-5f20f1d4dcc5",
   "metadata": {},
   "outputs": [
    {
     "data": {
      "text/plain": [
       "100000"
      ]
     },
     "execution_count": 10,
     "metadata": {},
     "output_type": "execute_result"
    }
   ],
   "source": [
    "full_df = sample_df\n",
    "len(full_df)"
   ]
  },
  {
   "cell_type": "code",
   "execution_count": 11,
   "id": "e9337577-da7f-445e-91cc-db8140f0901e",
   "metadata": {},
   "outputs": [],
   "source": [
    "raw_dataset = Dataset.from_pandas(full_df[['functionName', 'functionCode']])"
   ]
  },
  {
   "cell_type": "code",
   "execution_count": 12,
   "id": "3172c527-9f4c-4c84-b492-38dcbc2f90a5",
   "metadata": {},
   "outputs": [],
   "source": [
    "max_input_length =  512\n",
    "max_target_length = 64\n",
    "\n",
    "# tokenize the examples\n",
    "def convert_to_features(example_batch):\n",
    "\n",
    "    input_encodings = tokenizer.batch_encode_plus(example_batch['functionCode'], \n",
    "                                                  max_length=max_input_length, \n",
    "                                                  add_special_tokens=True,\n",
    "                                                  truncation=True, \n",
    "                                                  pad_to_max_length=True)\n",
    "    \n",
    "    target_encodings = tokenizer.batch_encode_plus(example_batch['functionName'], \n",
    "                                                   max_length=max_target_length, \n",
    "                                                   add_special_tokens=True,\n",
    "                                                   truncation=True, pad_to_max_length=True)\n",
    "                                                   \n",
    "    encodings = {\n",
    "        'input_ids': input_encodings['input_ids'], \n",
    "        'attention_mask': input_encodings['attention_mask'],\n",
    "        'decoder_input_ids': target_encodings['input_ids']\n",
    "        ,'decoder_attention_mask': target_encodings['attention_mask']\n",
    "    }\n",
    "\n",
    "    return encodings\n",
    "\n",
    "def add_eos_examples(example):\n",
    "  example['functionName'] = example['functionName'] + tokenizer.sep_token\n",
    "  example['functionCode'] = example['functionCode'] + tokenizer.sep_token\n",
    "  return example"
   ]
  },
  {
   "cell_type": "code",
   "execution_count": 13,
   "id": "b7abb8a3-cb2a-45b6-b9d8-a3aa815a2f46",
   "metadata": {},
   "outputs": [
    {
     "data": {
      "application/vnd.jupyter.widget-view+json": {
       "model_id": "",
       "version_major": 2,
       "version_minor": 0
      },
      "text/plain": [
       "Map:   0%|          | 0/100000 [00:00<?, ? examples/s]"
      ]
     },
     "metadata": {},
     "output_type": "display_data"
    },
    {
     "data": {
      "application/vnd.jupyter.widget-view+json": {
       "model_id": "",
       "version_major": 2,
       "version_minor": 0
      },
      "text/plain": [
       "Map:   0%|          | 0/100000 [00:00<?, ? examples/s]"
      ]
     },
     "metadata": {},
     "output_type": "display_data"
    },
    {
     "name": "stderr",
     "output_type": "stream",
     "text": [
      "/data/home/asurikov/.local/lib/python3.8/site-packages/transformers/tokenization_utils_base.py:2336: FutureWarning: The `pad_to_max_length` argument is deprecated and will be removed in a future version, use `padding=True` or `padding='longest'` to pad to the longest sequence in the batch, or use `padding='max_length'` to pad to a max length. In this case, you can give a specific length with `max_length` (e.g. `max_length=45`) or leave max_length to None to pad to the maximal input size of the model (e.g. 512 for Bert).\n",
      "  warnings.warn(\n"
     ]
    }
   ],
   "source": [
    "tokenized_dataset  = raw_dataset.map(add_eos_examples)\n",
    "tokenized_dataset  = tokenized_dataset.map(convert_to_features,  batched=True)"
   ]
  },
  {
   "cell_type": "markdown",
   "id": "58110333-8caf-4584-8f83-f2ae33166ba2",
   "metadata": {},
   "source": [
    "80/20 train/test split will be used"
   ]
  },
  {
   "cell_type": "code",
   "execution_count": 14,
   "id": "c48cb798-85bc-4293-87af-24096f0456c8",
   "metadata": {},
   "outputs": [],
   "source": [
    "tokenized_dataset_rm = tokenized_dataset.remove_columns(\n",
    "    [\"functionName\", \"functionCode\"]\n",
    ")\n",
    "\n",
    "tt_datasets = datasets.Dataset.train_test_split(tokenized_dataset_rm,\n",
    "                                                                 test_size=0.2)\n",
    "train_dataset = tt_datasets[\"train\"]\n",
    "valid_dataset = tt_datasets[\"test\"]\n",
    "\n",
    "columns = ['input_ids', 'decoder_input_ids', 'attention_mask', 'decoder_attention_mask']\n",
    "train_dataset.set_format(type='torch', columns=columns)\n",
    "valid_dataset.set_format(type='torch', columns=columns)"
   ]
  },
  {
   "cell_type": "code",
   "execution_count": 15,
   "id": "aeffba35-0d9e-4576-a410-fad3585ee781",
   "metadata": {},
   "outputs": [],
   "source": [
    "torch.save(train_dataset, 'seq2seq_data/train_data.pt')\n",
    "torch.save(valid_dataset, 'seq2seq_data/valid_data.pt')"
   ]
  },
  {
   "cell_type": "code",
   "execution_count": 16,
   "id": "1104205e-491d-4d7c-a874-ea3dfabf7a47",
   "metadata": {},
   "outputs": [
    {
     "name": "stdout",
     "output_type": "stream",
     "text": [
      "train len: 80000, test len: 20000\n"
     ]
    }
   ],
   "source": [
    "print(f\"train len: {len(train_dataset)}, test len: {len(valid_dataset)}\")"
   ]
  },
  {
   "cell_type": "markdown",
   "id": "18045331-ee31-4787-aa81-b5f8d4a0aecf",
   "metadata": {
    "tags": []
   },
   "source": [
    "## Load processed PT format datasets"
   ]
  },
  {
   "cell_type": "code",
   "execution_count": 4,
   "id": "5bdbd1ac-75a3-4259-95b7-f9e065875ee2",
   "metadata": {},
   "outputs": [],
   "source": [
    "train_dataset = torch.load('seq2seq_data/train_data.pt')\n",
    "valid_dataset = torch.load('seq2seq_data/valid_data.pt')"
   ]
  },
  {
   "cell_type": "code",
   "execution_count": 5,
   "id": "100ff251-2146-4f3f-bf76-e49b3850340f",
   "metadata": {},
   "outputs": [
    {
     "name": "stdout",
     "output_type": "stream",
     "text": [
      "train len: 80000, test len: 20000\n"
     ]
    }
   ],
   "source": [
    "print(f\"train len: {len(train_dataset)}, test len: {len(valid_dataset)}\")"
   ]
  },
  {
   "cell_type": "markdown",
   "id": "5cb58421-d9f7-4d65-b8bf-6735aa947343",
   "metadata": {
    "tags": []
   },
   "source": [
    "# S2S training"
   ]
  },
  {
   "cell_type": "code",
   "execution_count": 6,
   "id": "2597311a-ebe2-442a-ba59-9559f0ba8182",
   "metadata": {},
   "outputs": [],
   "source": [
    "@dataclass\n",
    "class T2TDataCollator():\n",
    "  def __call__(self, batch: List) -> Dict[str, torch.Tensor]:\n",
    "    \"\"\"\n",
    "    Take a list of samples from a Dataset and collate them into a batch.\n",
    "    Returns:\n",
    "    A dictionary of tensors\n",
    "    \"\"\"\n",
    "    \n",
    "    input_ids = torch.stack([example['input_ids'] for example in batch])\n",
    "    lm_labels = torch.stack([example['decoder_input_ids'] for example in batch])\n",
    "    lm_labels[lm_labels[:, :] == 0] = -100 \n",
    "    attention_mask = torch.stack([example['attention_mask'] for example in batch])\n",
    "    decoder_attention_mask = torch.stack([example['decoder_attention_mask'] for example in batch])\n",
    "    \n",
    "    return {\n",
    "        'input_ids': input_ids, \n",
    "        'attention_mask': attention_mask,\n",
    "        'labels': lm_labels, \n",
    "        'decoder_attention_mask': decoder_attention_mask\n",
    "    }"
   ]
  },
  {
   "cell_type": "code",
   "execution_count": 7,
   "id": "b7c390aa-51aa-4ca3-bc0d-4e2d18fe0248",
   "metadata": {},
   "outputs": [
    {
     "name": "stderr",
     "output_type": "stream",
     "text": [
      "/data/home/asurikov/.local/lib/python3.8/site-packages/transformers/optimization.py:306: FutureWarning: This implementation of AdamW is deprecated and will be removed in a future version. Use the PyTorch implementation torch.optim.AdamW instead, or set `no_deprecation_warning=True` to disable this warning\n",
      "  warnings.warn(\n",
      "***** Running training *****\n",
      "  Num examples = 80000\n",
      "  Num Epochs = 2\n",
      "  Instantaneous batch size per device = 8\n",
      "  Total train batch size (w. parallel, distributed & accumulation) = 8\n",
      "  Gradient Accumulation steps = 1\n",
      "  Total optimization steps = 20000\n",
      "  Number of trainable parameters = 222882048\n"
     ]
    },
    {
     "data": {
      "text/html": [
       "\n",
       "    <div>\n",
       "      \n",
       "      <progress value='20000' max='20000' style='width:300px; height:20px; vertical-align: middle;'></progress>\n",
       "      [20000/20000 9:37:38, Epoch 2/2]\n",
       "    </div>\n",
       "    <table border=\"1\" class=\"dataframe\">\n",
       "  <thead>\n",
       " <tr style=\"text-align: left;\">\n",
       "      <th>Step</th>\n",
       "      <th>Training Loss</th>\n",
       "      <th>Validation Loss</th>\n",
       "    </tr>\n",
       "  </thead>\n",
       "  <tbody>\n",
       "    <tr>\n",
       "      <td>1000</td>\n",
       "      <td>1.380000</td>\n",
       "      <td>1.291271</td>\n",
       "    </tr>\n",
       "    <tr>\n",
       "      <td>2000</td>\n",
       "      <td>1.317000</td>\n",
       "      <td>1.261353</td>\n",
       "    </tr>\n",
       "    <tr>\n",
       "      <td>3000</td>\n",
       "      <td>1.287800</td>\n",
       "      <td>1.219466</td>\n",
       "    </tr>\n",
       "    <tr>\n",
       "      <td>4000</td>\n",
       "      <td>1.252200</td>\n",
       "      <td>1.173987</td>\n",
       "    </tr>\n",
       "    <tr>\n",
       "      <td>5000</td>\n",
       "      <td>1.200400</td>\n",
       "      <td>1.138682</td>\n",
       "    </tr>\n",
       "    <tr>\n",
       "      <td>6000</td>\n",
       "      <td>1.211200</td>\n",
       "      <td>1.118758</td>\n",
       "    </tr>\n",
       "    <tr>\n",
       "      <td>7000</td>\n",
       "      <td>1.141000</td>\n",
       "      <td>1.088078</td>\n",
       "    </tr>\n",
       "    <tr>\n",
       "      <td>8000</td>\n",
       "      <td>1.108400</td>\n",
       "      <td>1.066788</td>\n",
       "    </tr>\n",
       "    <tr>\n",
       "      <td>9000</td>\n",
       "      <td>1.094800</td>\n",
       "      <td>1.048588</td>\n",
       "    </tr>\n",
       "    <tr>\n",
       "      <td>10000</td>\n",
       "      <td>1.084800</td>\n",
       "      <td>1.016348</td>\n",
       "    </tr>\n",
       "    <tr>\n",
       "      <td>11000</td>\n",
       "      <td>0.781100</td>\n",
       "      <td>1.022586</td>\n",
       "    </tr>\n",
       "    <tr>\n",
       "      <td>12000</td>\n",
       "      <td>0.756700</td>\n",
       "      <td>1.023136</td>\n",
       "    </tr>\n",
       "    <tr>\n",
       "      <td>13000</td>\n",
       "      <td>0.755400</td>\n",
       "      <td>1.011579</td>\n",
       "    </tr>\n",
       "    <tr>\n",
       "      <td>14000</td>\n",
       "      <td>0.745400</td>\n",
       "      <td>0.997534</td>\n",
       "    </tr>\n",
       "    <tr>\n",
       "      <td>15000</td>\n",
       "      <td>0.742300</td>\n",
       "      <td>0.984025</td>\n",
       "    </tr>\n",
       "    <tr>\n",
       "      <td>16000</td>\n",
       "      <td>0.747200</td>\n",
       "      <td>0.975295</td>\n",
       "    </tr>\n",
       "    <tr>\n",
       "      <td>17000</td>\n",
       "      <td>0.739600</td>\n",
       "      <td>0.962776</td>\n",
       "    </tr>\n",
       "    <tr>\n",
       "      <td>18000</td>\n",
       "      <td>0.704900</td>\n",
       "      <td>0.959335</td>\n",
       "    </tr>\n",
       "    <tr>\n",
       "      <td>19000</td>\n",
       "      <td>0.712900</td>\n",
       "      <td>0.953573</td>\n",
       "    </tr>\n",
       "    <tr>\n",
       "      <td>20000</td>\n",
       "      <td>0.706400</td>\n",
       "      <td>0.951323</td>\n",
       "    </tr>\n",
       "  </tbody>\n",
       "</table><p>"
      ],
      "text/plain": [
       "<IPython.core.display.HTML object>"
      ]
     },
     "metadata": {},
     "output_type": "display_data"
    },
    {
     "name": "stderr",
     "output_type": "stream",
     "text": [
      "***** Running Evaluation *****\n",
      "  Num examples = 20000\n",
      "  Batch size = 8\n",
      "***** Running Evaluation *****\n",
      "  Num examples = 20000\n",
      "  Batch size = 8\n",
      "Saving model checkpoint to t5-checkpoints/checkpoint-2000\n",
      "Configuration saved in t5-checkpoints/checkpoint-2000/config.json\n",
      "Model weights saved in t5-checkpoints/checkpoint-2000/pytorch_model.bin\n",
      "***** Running Evaluation *****\n",
      "  Num examples = 20000\n",
      "  Batch size = 8\n",
      "IOPub message rate exceeded.\n",
      "The Jupyter server will temporarily stop sending output\n",
      "to the client in order to avoid crashing it.\n",
      "To change this limit, set the config variable\n",
      "`--ServerApp.iopub_msg_rate_limit`.\n",
      "\n",
      "Current values:\n",
      "ServerApp.iopub_msg_rate_limit=1000.0 (msgs/sec)\n",
      "ServerApp.rate_limit_window=3.0 (secs)\n",
      "\n",
      "Saving model checkpoint to t5-checkpoints/checkpoint-4000\n",
      "Configuration saved in t5-checkpoints/checkpoint-4000/config.json\n",
      "Model weights saved in t5-checkpoints/checkpoint-4000/pytorch_model.bin\n",
      "***** Running Evaluation *****\n",
      "  Num examples = 20000\n",
      "  Batch size = 8\n",
      "IOPub message rate exceeded.\n",
      "The Jupyter server will temporarily stop sending output\n",
      "to the client in order to avoid crashing it.\n",
      "To change this limit, set the config variable\n",
      "`--ServerApp.iopub_msg_rate_limit`.\n",
      "\n",
      "Current values:\n",
      "ServerApp.iopub_msg_rate_limit=1000.0 (msgs/sec)\n",
      "ServerApp.rate_limit_window=3.0 (secs)\n",
      "\n",
      "Saving model checkpoint to t5-checkpoints/checkpoint-6000\n",
      "Configuration saved in t5-checkpoints/checkpoint-6000/config.json\n",
      "Model weights saved in t5-checkpoints/checkpoint-6000/pytorch_model.bin\n",
      "IOPub message rate exceeded.\n",
      "The Jupyter server will temporarily stop sending output\n",
      "to the client in order to avoid crashing it.\n",
      "To change this limit, set the config variable\n",
      "`--ServerApp.iopub_msg_rate_limit`.\n",
      "\n",
      "Current values:\n",
      "ServerApp.iopub_msg_rate_limit=1000.0 (msgs/sec)\n",
      "ServerApp.rate_limit_window=3.0 (secs)\n",
      "\n",
      "***** Running Evaluation *****\n",
      "  Num examples = 20000\n",
      "  Batch size = 8\n",
      "IOPub message rate exceeded.\n",
      "The Jupyter server will temporarily stop sending output\n",
      "to the client in order to avoid crashing it.\n",
      "To change this limit, set the config variable\n",
      "`--ServerApp.iopub_msg_rate_limit`.\n",
      "\n",
      "Current values:\n",
      "ServerApp.iopub_msg_rate_limit=1000.0 (msgs/sec)\n",
      "ServerApp.rate_limit_window=3.0 (secs)\n",
      "\n",
      "***** Running Evaluation *****\n",
      "  Num examples = 20000\n",
      "  Batch size = 8\n",
      "Saving model checkpoint to t5-checkpoints/checkpoint-10000\n",
      "Configuration saved in t5-checkpoints/checkpoint-10000/config.json\n",
      "Model weights saved in t5-checkpoints/checkpoint-10000/pytorch_model.bin\n",
      "***** Running Evaluation *****\n",
      "  Num examples = 20000\n",
      "  Batch size = 8\n",
      "IOPub message rate exceeded.\n",
      "The Jupyter server will temporarily stop sending output\n",
      "to the client in order to avoid crashing it.\n",
      "To change this limit, set the config variable\n",
      "`--ServerApp.iopub_msg_rate_limit`.\n",
      "\n",
      "Current values:\n",
      "ServerApp.iopub_msg_rate_limit=1000.0 (msgs/sec)\n",
      "ServerApp.rate_limit_window=3.0 (secs)\n",
      "\n",
      "Saving model checkpoint to t5-checkpoints/checkpoint-12000\n",
      "Configuration saved in t5-checkpoints/checkpoint-12000/config.json\n",
      "Model weights saved in t5-checkpoints/checkpoint-12000/pytorch_model.bin\n",
      "***** Running Evaluation *****\n",
      "  Num examples = 20000\n",
      "  Batch size = 8\n",
      "IOPub message rate exceeded.\n",
      "The Jupyter server will temporarily stop sending output\n",
      "to the client in order to avoid crashing it.\n",
      "To change this limit, set the config variable\n",
      "`--ServerApp.iopub_msg_rate_limit`.\n",
      "\n",
      "Current values:\n",
      "ServerApp.iopub_msg_rate_limit=1000.0 (msgs/sec)\n",
      "ServerApp.rate_limit_window=3.0 (secs)\n",
      "\n",
      "***** Running Evaluation *****\n",
      "  Num examples = 20000\n",
      "  Batch size = 8\n",
      "Saving model checkpoint to t5-checkpoints/checkpoint-14000\n",
      "Configuration saved in t5-checkpoints/checkpoint-14000/config.json\n",
      "Model weights saved in t5-checkpoints/checkpoint-14000/pytorch_model.bin\n",
      "***** Running Evaluation *****\n",
      "  Num examples = 20000\n",
      "  Batch size = 8\n",
      "***** Running Evaluation *****\n",
      "  Num examples = 20000\n",
      "  Batch size = 8\n",
      "Saving model checkpoint to t5-checkpoints/checkpoint-16000\n",
      "Configuration saved in t5-checkpoints/checkpoint-16000/config.json\n",
      "Model weights saved in t5-checkpoints/checkpoint-16000/pytorch_model.bin\n",
      "IOPub message rate exceeded.\n",
      "The Jupyter server will temporarily stop sending output\n",
      "to the client in order to avoid crashing it.\n",
      "To change this limit, set the config variable\n",
      "`--ServerApp.iopub_msg_rate_limit`.\n",
      "\n",
      "Current values:\n",
      "ServerApp.iopub_msg_rate_limit=1000.0 (msgs/sec)\n",
      "ServerApp.rate_limit_window=3.0 (secs)\n",
      "\n",
      "***** Running Evaluation *****\n",
      "  Num examples = 20000\n",
      "  Batch size = 8\n",
      "***** Running Evaluation *****\n",
      "  Num examples = 20000\n",
      "  Batch size = 8\n",
      "Saving model checkpoint to t5-checkpoints/checkpoint-18000\n",
      "Configuration saved in t5-checkpoints/checkpoint-18000/config.json\n",
      "Model weights saved in t5-checkpoints/checkpoint-18000/pytorch_model.bin\n",
      "***** Running Evaluation *****\n",
      "  Num examples = 20000\n",
      "  Batch size = 8\n",
      "***** Running Evaluation *****\n",
      "  Num examples = 20000\n",
      "  Batch size = 8\n",
      "Saving model checkpoint to t5-checkpoints/checkpoint-20000\n",
      "Configuration saved in t5-checkpoints/checkpoint-20000/config.json\n",
      "Model weights saved in t5-checkpoints/checkpoint-20000/pytorch_model.bin\n",
      "\n",
      "\n",
      "Training completed. Do not forget to share your model on huggingface.co/models =)\n",
      "\n",
      "\n"
     ]
    },
    {
     "data": {
      "text/plain": [
       "TrainOutput(global_step=20000, training_loss=0.9817094223022461, metrics={'train_runtime': 34659.4829, 'train_samples_per_second': 4.616, 'train_steps_per_second': 0.577, 'total_flos': 9.74332624896e+16, 'train_loss': 0.9817094223022461, 'epoch': 2.0})"
      ]
     },
     "execution_count": 7,
     "metadata": {},
     "output_type": "execute_result"
    }
   ],
   "source": [
    "training_args = TrainingArguments(output_dir=\"t5-checkpoints\", \n",
    "                                  logging_dir = \"t5-logging\",\n",
    "                                  per_device_train_batch_size=8, \n",
    "                                  per_device_eval_batch_size=8,\n",
    "                                  learning_rate=1e-4, \n",
    "                                  num_train_epochs=2,\n",
    "                                  logging_steps=500,\n",
    "                                  evaluation_strategy=\"steps\",\n",
    "                                  eval_steps=1000,\n",
    "                                  save_steps=2000\n",
    "                                 )\n",
    "\n",
    "logger = logging.getLogger(__name__)\n",
    "\n",
    "trainer = Trainer(\n",
    "    model=model,\n",
    "    args=training_args,\n",
    "    train_dataset=train_dataset,\n",
    "    eval_dataset=valid_dataset,\n",
    "    data_collator=T2TDataCollator()\n",
    ")\n",
    "\n",
    "trainer.train()"
   ]
  },
  {
   "cell_type": "code",
   "execution_count": 8,
   "id": "d9cf90bc-9ef0-46ea-9939-9b784d318a4a",
   "metadata": {},
   "outputs": [],
   "source": [
    "train_history = [obj for obj in trainer.state.log_history if 'loss' in obj.keys()]\n",
    "eval_history = [obj for obj in trainer.state.log_history if 'eval_loss' in obj.keys()]"
   ]
  },
  {
   "cell_type": "code",
   "execution_count": 9,
   "id": "937a821b-0a6b-4d2e-b752-5b1e27fe4918",
   "metadata": {},
   "outputs": [
    {
     "data": {
      "text/plain": [
       "[{'eval_loss': 1.291271448135376,\n",
       "  'eval_runtime': 772.542,\n",
       "  'eval_samples_per_second': 25.889,\n",
       "  'eval_steps_per_second': 3.236,\n",
       "  'epoch': 0.1,\n",
       "  'step': 1000},\n",
       " {'eval_loss': 1.2613525390625,\n",
       "  'eval_runtime': 738.2311,\n",
       "  'eval_samples_per_second': 27.092,\n",
       "  'eval_steps_per_second': 3.386,\n",
       "  'epoch': 0.2,\n",
       "  'step': 2000},\n",
       " {'eval_loss': 1.219466209411621,\n",
       "  'eval_runtime': 732.9115,\n",
       "  'eval_samples_per_second': 27.288,\n",
       "  'eval_steps_per_second': 3.411,\n",
       "  'epoch': 0.3,\n",
       "  'step': 3000},\n",
       " {'eval_loss': 1.1739871501922607,\n",
       "  'eval_runtime': 696.3211,\n",
       "  'eval_samples_per_second': 28.722,\n",
       "  'eval_steps_per_second': 3.59,\n",
       "  'epoch': 0.4,\n",
       "  'step': 4000},\n",
       " {'eval_loss': 1.1386815309524536,\n",
       "  'eval_runtime': 650.0237,\n",
       "  'eval_samples_per_second': 30.768,\n",
       "  'eval_steps_per_second': 3.846,\n",
       "  'epoch': 0.5,\n",
       "  'step': 5000},\n",
       " {'eval_loss': 1.118757963180542,\n",
       "  'eval_runtime': 656.8546,\n",
       "  'eval_samples_per_second': 30.448,\n",
       "  'eval_steps_per_second': 3.806,\n",
       "  'epoch': 0.6,\n",
       "  'step': 6000},\n",
       " {'eval_loss': 1.0880777835845947,\n",
       "  'eval_runtime': 628.3834,\n",
       "  'eval_samples_per_second': 31.828,\n",
       "  'eval_steps_per_second': 3.978,\n",
       "  'epoch': 0.7,\n",
       "  'step': 7000},\n",
       " {'eval_loss': 1.0667883157730103,\n",
       "  'eval_runtime': 729.541,\n",
       "  'eval_samples_per_second': 27.414,\n",
       "  'eval_steps_per_second': 3.427,\n",
       "  'epoch': 0.8,\n",
       "  'step': 8000},\n",
       " {'eval_loss': 1.0485877990722656,\n",
       "  'eval_runtime': 793.5013,\n",
       "  'eval_samples_per_second': 25.205,\n",
       "  'eval_steps_per_second': 3.151,\n",
       "  'epoch': 0.9,\n",
       "  'step': 9000},\n",
       " {'eval_loss': 1.016347885131836,\n",
       "  'eval_runtime': 869.653,\n",
       "  'eval_samples_per_second': 22.998,\n",
       "  'eval_steps_per_second': 2.875,\n",
       "  'epoch': 1.0,\n",
       "  'step': 10000},\n",
       " {'eval_loss': 1.022586464881897,\n",
       "  'eval_runtime': 830.5791,\n",
       "  'eval_samples_per_second': 24.08,\n",
       "  'eval_steps_per_second': 3.01,\n",
       "  'epoch': 1.1,\n",
       "  'step': 11000},\n",
       " {'eval_loss': 1.0231361389160156,\n",
       "  'eval_runtime': 857.7807,\n",
       "  'eval_samples_per_second': 23.316,\n",
       "  'eval_steps_per_second': 2.914,\n",
       "  'epoch': 1.2,\n",
       "  'step': 12000},\n",
       " {'eval_loss': 1.011578917503357,\n",
       "  'eval_runtime': 881.1234,\n",
       "  'eval_samples_per_second': 22.698,\n",
       "  'eval_steps_per_second': 2.837,\n",
       "  'epoch': 1.3,\n",
       "  'step': 13000},\n",
       " {'eval_loss': 0.9975337982177734,\n",
       "  'eval_runtime': 882.2291,\n",
       "  'eval_samples_per_second': 22.67,\n",
       "  'eval_steps_per_second': 2.834,\n",
       "  'epoch': 1.4,\n",
       "  'step': 14000},\n",
       " {'eval_loss': 0.9840248227119446,\n",
       "  'eval_runtime': 873.9861,\n",
       "  'eval_samples_per_second': 22.884,\n",
       "  'eval_steps_per_second': 2.86,\n",
       "  'epoch': 1.5,\n",
       "  'step': 15000},\n",
       " {'eval_loss': 0.9752949476242065,\n",
       "  'eval_runtime': 883.2748,\n",
       "  'eval_samples_per_second': 22.643,\n",
       "  'eval_steps_per_second': 2.83,\n",
       "  'epoch': 1.6,\n",
       "  'step': 16000},\n",
       " {'eval_loss': 0.9627757668495178,\n",
       "  'eval_runtime': 830.7752,\n",
       "  'eval_samples_per_second': 24.074,\n",
       "  'eval_steps_per_second': 3.009,\n",
       "  'epoch': 1.7,\n",
       "  'step': 17000},\n",
       " {'eval_loss': 0.9593351483345032,\n",
       "  'eval_runtime': 538.4037,\n",
       "  'eval_samples_per_second': 37.147,\n",
       "  'eval_steps_per_second': 4.643,\n",
       "  'epoch': 1.8,\n",
       "  'step': 18000},\n",
       " {'eval_loss': 0.9535732269287109,\n",
       "  'eval_runtime': 561.7647,\n",
       "  'eval_samples_per_second': 35.602,\n",
       "  'eval_steps_per_second': 4.45,\n",
       "  'epoch': 1.9,\n",
       "  'step': 19000},\n",
       " {'eval_loss': 0.9513228535652161,\n",
       "  'eval_runtime': 532.8379,\n",
       "  'eval_samples_per_second': 37.535,\n",
       "  'eval_steps_per_second': 4.692,\n",
       "  'epoch': 2.0,\n",
       "  'step': 20000}]"
      ]
     },
     "execution_count": 9,
     "metadata": {},
     "output_type": "execute_result"
    }
   ],
   "source": [
    "eval_history"
   ]
  },
  {
   "cell_type": "code",
   "execution_count": 10,
   "id": "dc79e448-2819-4772-821d-0f9a6184ae2e",
   "metadata": {},
   "outputs": [
    {
     "data": {
      "image/png": "[encoded data removed]",
      "text/plain": [
       "<Figure size 640x480 with 1 Axes>"
      ]
     },
     "metadata": {},
     "output_type": "display_data"
    }
   ],
   "source": [
    "import matplotlib.pyplot as plt\n",
    "\n",
    "x = [obj['step'] for obj in train_history]\n",
    "y = [obj['loss'] for obj in train_history]\n",
    "\n",
    "plt.title('Training loss')\n",
    "plt.plot(x,y)\n",
    "plt.xlabel('Step')\n",
    "plt.ylabel('Loss')\n",
    "plt.savefig(\"t5-logging/t5_training_loss.png\")\n",
    "plt.show()"
   ]
  },
  {
   "cell_type": "code",
   "execution_count": 11,
   "id": "62fead85-4fc7-4540-8448-504191941d33",
   "metadata": {},
   "outputs": [
    {
     "data": {
      "image/png": "[encoded data removed]",
      "text/plain": [
       "<Figure size 640x480 with 1 Axes>"
      ]
     },
     "metadata": {},
     "output_type": "display_data"
    }
   ],
   "source": [
    "import matplotlib.pyplot as plt\n",
    "\n",
    "x = [obj['step'] for obj in eval_history]\n",
    "y = [obj['eval_loss'] for obj in eval_history]\n",
    "\n",
    "plt.title('Validation loss')\n",
    "plt.plot(x,y)\n",
    "plt.xlabel('Step')\n",
    "plt.ylabel('Loss')\n",
    "plt.savefig(\"t5-logging/t5_validation_loss.png\")\n",
    "plt.show()\n"
   ]
  },
  {
   "cell_type": "markdown",
   "id": "49252922-77e5-4aef-94f0-4be9f0ee15b6",
   "metadata": {},
   "source": [
    " "
   ]
  },
  {
   "cell_type": "markdown",
   "id": "ef42663a-0415-4f86-800a-1e7de933a26a",
   "metadata": {},
   "source": [
    " "
   ]
  }
 ],
 "metadata": {
  "kernelspec": {
   "display_name": "Python 3 (ipykernel)",
   "language": "python",
   "name": "python3"
  },
  "language_info": {
   "codemirror_mode": {
    "name": "ipython",
    "version": 3
   },
   "file_extension": ".py",
   "mimetype": "text/x-python",
   "name": "python",
   "nbconvert_exporter": "python",
   "pygments_lexer": "ipython3",
   "version": "3.8.8"
  }
 },
 "nbformat": 4,
 "nbformat_minor": 5
}
