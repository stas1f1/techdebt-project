{
 "cells": [
  {
   "cell_type": "markdown",
   "id": "e782bfb8-ec63-4484-8029-84a94ba2bf9d",
   "metadata": {
    "tags": []
   },
   "source": [
    "# Setup"
   ]
  },
  {
   "cell_type": "code",
   "execution_count": 4,
   "id": "bbc37946-58e2-4b85-bf8d-e5c609a90d49",
   "metadata": {},
   "outputs": [],
   "source": [
    "from transformers import RobertaTokenizer, RobertaForSequenceClassification, T5ForConditionalGeneration, TrainingArguments\n",
    "from sklearn.metrics import precision_recall_fscore_support, accuracy_score\n",
    "from sklearn.model_selection import train_test_split\n",
    "from tqdm import tqdm\n",
    "\n",
    "import torch\n",
    "torch.cuda.empty_cache()\n",
    "\n",
    "from sklearn.metrics import f1_score\n",
    "import numpy as np\n",
    "import pandas as pd\n",
    "import evaluate\n",
    "\n",
    "import ast\n",
    "import astunparse\n",
    "\n",
    "import random\n",
    "import string"
   ]
  },
  {
   "cell_type": "code",
   "execution_count": 5,
   "id": "68409096-9950-40ba-83b1-3b9723bc5a54",
   "metadata": {},
   "outputs": [
    {
     "name": "stdout",
     "output_type": "stream",
     "text": [
      "Tue Apr 11 00:14:18 2023       \n",
      "+-----------------------------------------------------------------------------+\n",
      "| NVIDIA-SMI 418.126.02   Driver Version: 418.126.02   CUDA Version: 10.1     |\n",
      "|-------------------------------+----------------------+----------------------+\n",
      "| GPU  Name        Persistence-M| Bus-Id        Disp.A | Volatile Uncorr. ECC |\n",
      "| Fan  Temp  Perf  Pwr:Usage/Cap|         Memory-Usage | GPU-Util  Compute M. |\n",
      "|===============================+======================+======================|\n",
      "|   0  Tesla V100-SXM2...  On   | 00000000:8A:00.0 Off |                    0 |\n",
      "| N/A   41C    P0    68W / 300W |  12200MiB / 32480MiB |      0%      Default |\n",
      "+-------------------------------+----------------------+----------------------+\n",
      "                                                                               \n",
      "+-----------------------------------------------------------------------------+\n",
      "| Processes:                                                       GPU Memory |\n",
      "|  GPU       PID   Type   Process name                             Usage      |\n",
      "|=============================================================================|\n",
      "+-----------------------------------------------------------------------------+\n"
     ]
    }
   ],
   "source": [
    "!nvidia-smi"
   ]
  },
  {
   "cell_type": "markdown",
   "id": "028ae13f-e6aa-461e-a20f-4fadfcf1eaa2",
   "metadata": {},
   "source": [
    "Let's load both scorer and generator model and see how the work in tandem (they use the same tkz with the same config)"
   ]
  },
  {
   "cell_type": "code",
   "execution_count": 6,
   "id": "79c43272-099a-4bcc-9ca9-5cbf628c2073",
   "metadata": {},
   "outputs": [],
   "source": [
    "scorer_checkpoint = 'checkpoingnts/R2-checkpoint-18000'\n",
    "\n",
    "scorer_model = RobertaForSequenceClassification.from_pretrained(scorer_checkpoint)\n",
    "scorer_tokenizer = RobertaTokenizer.from_pretrained(\"microsoft/codebert-base\")\n",
    "\n",
    "generator_checkpoint = \"t5-checkpoints/R2-checkpoint-20000\"\n",
    "\n",
    "generator_model = T5ForConditionalGeneration.from_pretrained(generator_checkpoint)\n",
    "generator_tokenizer = RobertaTokenizer.from_pretrained('Salesforce/codet5-base-multi-sum')"
   ]
  },
  {
   "cell_type": "code",
   "execution_count": 7,
   "id": "e61e70b2-c30a-4d78-9cf5-e2a5e320b206",
   "metadata": {},
   "outputs": [],
   "source": [
    "def get_function_info(functionNode):\n",
    "    functionName = functionNode.name\n",
    "    functionArgs = [arg.arg for arg in functionNode.args.args]\n",
    "    functionCode = astunparse.unparse(functionNode)\n",
    "    return [functionName, functionArgs, functionCode]\n",
    "\n",
    "def code_to_functions_df(code):\n",
    "    node = ast.parse(code)\n",
    "    functions = [n for n in node.body if isinstance(n, ast.FunctionDef)]\n",
    "    classes = [n for n in node.body if isinstance(n, ast.ClassDef)]\n",
    "\n",
    "    standalone_functions = [get_function_info(function) for function in functions]\n",
    "    \n",
    "    class_functions = []\n",
    "        \n",
    "    for class_ in classes:\n",
    "        methods = [n for n in class_.body if isinstance(n, ast.FunctionDef)]\n",
    "        cur_class_functions = [get_function_info(method) for method in methods]\n",
    "        class_functions.extend(cur_class_functions)\n",
    "    \n",
    "    return pd.DataFrame(standalone_functions + class_functions,\n",
    "                      columns =['functionName', 'functionArgs', 'functionCode'])\n",
    "\n",
    "def file_to_processed_df(filename):\n",
    "    functions = []\n",
    "    with open(filename) as file:\n",
    "        functions = code_to_functions_df(file.read())\n",
    "    #preprocess - remove all before args definition\n",
    "    functions['functionCode'] = [s[s.find('('):] for s in functions['functionCode']]\n",
    "    return functions\n",
    "\n",
    "def run_seq2seq_model(input_string, **generator_args):\n",
    "    generator_args = {\n",
    "    \"max_length\": 64,\n",
    "    \"num_beams\": 1,\n",
    "    \"length_penalty\": 1.5,\n",
    "    \"no_repeat_ngram_size\": 4,\n",
    "    \"early_stopping\": True,\n",
    "    }\n",
    "    \n",
    "    input_string = input_string + \" </s>\"\n",
    "    input_ids = generator_tokenizer.encode(input_string, return_tensors=\"pt\")\n",
    "    res = generator_model.generate(input_ids, max_length=64)\n",
    "    output = generator_tokenizer.batch_decode(res, skip_special_tokens=True)\n",
    "    #output = [item.split(\"</s>\") for item in output]\n",
    "    return output"
   ]
  },
  {
   "cell_type": "markdown",
   "id": "a7992d37-6f35-4d39-9f6b-ba229fe4b3cd",
   "metadata": {
    "tags": []
   },
   "source": [
    "# Test 1 - Looking at good code (at a different angle)\n",
    "We look at test module code from Philips' library for extracting functions from GitHub repos, all functions are correct, how well will the model be able to regenerate the right names? \n",
    "\n",
    "Comments were removed to so model won't just rely on them\n",
    "\n",
    "source: https://github.com/philips-software/functiondefextractor/blob/master/test/test_core_extractor.py"
   ]
  },
  {
   "cell_type": "code",
   "execution_count": 8,
   "id": "7f71591f-e2fa-4781-a201-a3bc8d15f9e8",
   "metadata": {},
   "outputs": [
    {
     "data": {
      "text/html": [
       "<div>\n",
       "<style scoped>\n",
       "    .dataframe tbody tr th:only-of-type {\n",
       "        vertical-align: middle;\n",
       "    }\n",
       "\n",
       "    .dataframe tbody tr th {\n",
       "        vertical-align: top;\n",
       "    }\n",
       "\n",
       "    .dataframe thead th {\n",
       "        text-align: right;\n",
       "    }\n",
       "</style>\n",
       "<table border=\"1\" class=\"dataframe\">\n",
       "  <thead>\n",
       "    <tr style=\"text-align: right;\">\n",
       "      <th></th>\n",
       "      <th>functionName</th>\n",
       "      <th>functionArgs</th>\n",
       "      <th>functionCode</th>\n",
       "    </tr>\n",
       "  </thead>\n",
       "  <tbody>\n",
       "    <tr>\n",
       "      <th>0</th>\n",
       "      <td>get_log_data</td>\n",
       "      <td>[line]</td>\n",
       "      <td>(line):\\n    ini_path = os.path.abspath(os.pat...</td>\n",
       "    </tr>\n",
       "    <tr>\n",
       "      <th>1</th>\n",
       "      <td>test_filter_reg_files</td>\n",
       "      <td>[self]</td>\n",
       "      <td>(self):\\n    files = get_file_names(self.src_f...</td>\n",
       "    </tr>\n",
       "    <tr>\n",
       "      <th>2</th>\n",
       "      <td>test_get_function_names</td>\n",
       "      <td>[self]</td>\n",
       "      <td>(self):\\n    (func, line_num) = get_function_n...</td>\n",
       "    </tr>\n",
       "    <tr>\n",
       "      <th>3</th>\n",
       "      <td>test_get_func_body</td>\n",
       "      <td>[self]</td>\n",
       "      <td>(self):\\n    func_body = get_func_body(os.path...</td>\n",
       "    </tr>\n",
       "    <tr>\n",
       "      <th>4</th>\n",
       "      <td>test_process_ad</td>\n",
       "      <td>[self]</td>\n",
       "      <td>(self):\\n    dataframe = extractor(os.path.joi...</td>\n",
       "    </tr>\n",
       "    <tr>\n",
       "      <th>5</th>\n",
       "      <td>test_process_extract</td>\n",
       "      <td>[self]</td>\n",
       "      <td>(self):\\n    dataframe = extractor(os.path.joi...</td>\n",
       "    </tr>\n",
       "    <tr>\n",
       "      <th>6</th>\n",
       "      <td>test_process_annot</td>\n",
       "      <td>[self]</td>\n",
       "      <td>(self):\\n    dataframe = extractor(os.path.joi...</td>\n",
       "    </tr>\n",
       "    <tr>\n",
       "      <th>7</th>\n",
       "      <td>test_process_python_test_extract</td>\n",
       "      <td>[self]</td>\n",
       "      <td>(self):\\n    dataframe = extractor(os.path.joi...</td>\n",
       "    </tr>\n",
       "    <tr>\n",
       "      <th>8</th>\n",
       "      <td>test_invalid_path</td>\n",
       "      <td>[self]</td>\n",
       "      <td>(self):\\n    self.assertEqual(extractor(os.pat...</td>\n",
       "    </tr>\n",
       "    <tr>\n",
       "      <th>9</th>\n",
       "      <td>test_py_annot_method_names</td>\n",
       "      <td>[self]</td>\n",
       "      <td>(self):\\n    line_data = list([line.rstrip() f...</td>\n",
       "    </tr>\n",
       "    <tr>\n",
       "      <th>10</th>\n",
       "      <td>test_get_report</td>\n",
       "      <td>[self]</td>\n",
       "      <td>(self):\\n    dataframe = get_report(extractor(...</td>\n",
       "    </tr>\n",
       "    <tr>\n",
       "      <th>11</th>\n",
       "      <td>test_pivot_table</td>\n",
       "      <td>[self]</td>\n",
       "      <td>(self):\\n    res = check_condition('assert', o...</td>\n",
       "    </tr>\n",
       "    <tr>\n",
       "      <th>12</th>\n",
       "      <td>test_cmd_inputs</td>\n",
       "      <td>[self]</td>\n",
       "      <td>(self):\\n    validate_inputs(os.path.join(os.p...</td>\n",
       "    </tr>\n",
       "    <tr>\n",
       "      <th>13</th>\n",
       "      <td>test_extractor_cmd</td>\n",
       "      <td>[self]</td>\n",
       "      <td>(self):\\n    cmd = ('python -m functiondefextr...</td>\n",
       "    </tr>\n",
       "  </tbody>\n",
       "</table>\n",
       "</div>"
      ],
      "text/plain": [
       "                        functionName functionArgs  \\\n",
       "0                       get_log_data       [line]   \n",
       "1              test_filter_reg_files       [self]   \n",
       "2            test_get_function_names       [self]   \n",
       "3                 test_get_func_body       [self]   \n",
       "4                    test_process_ad       [self]   \n",
       "5               test_process_extract       [self]   \n",
       "6                 test_process_annot       [self]   \n",
       "7   test_process_python_test_extract       [self]   \n",
       "8                  test_invalid_path       [self]   \n",
       "9         test_py_annot_method_names       [self]   \n",
       "10                   test_get_report       [self]   \n",
       "11                  test_pivot_table       [self]   \n",
       "12                   test_cmd_inputs       [self]   \n",
       "13                test_extractor_cmd       [self]   \n",
       "\n",
       "                                         functionCode  \n",
       "0   (line):\\n    ini_path = os.path.abspath(os.pat...  \n",
       "1   (self):\\n    files = get_file_names(self.src_f...  \n",
       "2   (self):\\n    (func, line_num) = get_function_n...  \n",
       "3   (self):\\n    func_body = get_func_body(os.path...  \n",
       "4   (self):\\n    dataframe = extractor(os.path.joi...  \n",
       "5   (self):\\n    dataframe = extractor(os.path.joi...  \n",
       "6   (self):\\n    dataframe = extractor(os.path.joi...  \n",
       "7   (self):\\n    dataframe = extractor(os.path.joi...  \n",
       "8   (self):\\n    self.assertEqual(extractor(os.pat...  \n",
       "9   (self):\\n    line_data = list([line.rstrip() f...  \n",
       "10  (self):\\n    dataframe = get_report(extractor(...  \n",
       "11  (self):\\n    res = check_condition('assert', o...  \n",
       "12  (self):\\n    validate_inputs(os.path.join(os.p...  \n",
       "13  (self):\\n    cmd = ('python -m functiondefextr...  "
      ]
     },
     "execution_count": 8,
     "metadata": {},
     "output_type": "execute_result"
    }
   ],
   "source": [
    "functions = file_to_processed_df(\"code_sample/code_sample_nocomments.py\")\n",
    "functions"
   ]
  },
  {
   "cell_type": "code",
   "execution_count": 9,
   "id": "08ca0b4d-17f6-4492-b12d-ec6f137f6a29",
   "metadata": {},
   "outputs": [
    {
     "name": "stdout",
     "output_type": "stream",
     "text": [
      "test_filter_reg_files\n"
     ]
    }
   ],
   "source": [
    "print(run_seq2seq_model(functions.iloc[1]['functionCode'])[0])"
   ]
  },
  {
   "cell_type": "markdown",
   "id": "0d7ff8e2-f868-4b73-8e1f-328185caf6d4",
   "metadata": {},
   "source": [
    "Who told you that? 🤨"
   ]
  },
  {
   "cell_type": "code",
   "execution_count": 10,
   "id": "e8051876-d6a7-4e43-9a9c-f425086ab8d5",
   "metadata": {},
   "outputs": [
    {
     "data": {
      "text/html": [
       "<div>\n",
       "<style scoped>\n",
       "    .dataframe tbody tr th:only-of-type {\n",
       "        vertical-align: middle;\n",
       "    }\n",
       "\n",
       "    .dataframe tbody tr th {\n",
       "        vertical-align: top;\n",
       "    }\n",
       "\n",
       "    .dataframe thead th {\n",
       "        text-align: right;\n",
       "    }\n",
       "</style>\n",
       "<table border=\"1\" class=\"dataframe\">\n",
       "  <thead>\n",
       "    <tr style=\"text-align: right;\">\n",
       "      <th></th>\n",
       "      <th>functionName</th>\n",
       "      <th>functionGeneratedName</th>\n",
       "      <th>functionCode</th>\n",
       "    </tr>\n",
       "  </thead>\n",
       "  <tbody>\n",
       "    <tr>\n",
       "      <th>0</th>\n",
       "      <td>get_log_data</td>\n",
       "      <td>get_line_number</td>\n",
       "      <td>(line):\\n    ini_path = os.path.abspath(os.pat...</td>\n",
       "    </tr>\n",
       "    <tr>\n",
       "      <th>1</th>\n",
       "      <td>test_filter_reg_files</td>\n",
       "      <td>test_filter_reg_files</td>\n",
       "      <td>(self):\\n    files = get_file_names(self.src_f...</td>\n",
       "    </tr>\n",
       "    <tr>\n",
       "      <th>2</th>\n",
       "      <td>test_get_function_names</td>\n",
       "      <td>test_get_function_names</td>\n",
       "      <td>(self):\\n    (func, line_num) = get_function_n...</td>\n",
       "    </tr>\n",
       "    <tr>\n",
       "      <th>3</th>\n",
       "      <td>test_get_func_body</td>\n",
       "      <td>test_restore_streams_with_function_body</td>\n",
       "      <td>(self):\\n    func_body = get_func_body(os.path...</td>\n",
       "    </tr>\n",
       "    <tr>\n",
       "      <th>4</th>\n",
       "      <td>test_process_ad</td>\n",
       "      <td>test_codeextractor_T_T_A_D</td>\n",
       "      <td>(self):\\n    dataframe = extractor(os.path.joi...</td>\n",
       "    </tr>\n",
       "    <tr>\n",
       "      <th>5</th>\n",
       "      <td>test_process_extract</td>\n",
       "      <td>test_codeextractor_T_T_A</td>\n",
       "      <td>(self):\\n    dataframe = extractor(os.path.joi...</td>\n",
       "    </tr>\n",
       "    <tr>\n",
       "      <th>6</th>\n",
       "      <td>test_process_annot</td>\n",
       "      <td>test_codeextractor_annotated_report_folder</td>\n",
       "      <td>(self):\\n    dataframe = extractor(os.path.joi...</td>\n",
       "    </tr>\n",
       "    <tr>\n",
       "      <th>7</th>\n",
       "      <td>test_process_python_test_extract</td>\n",
       "      <td>test_codeextractor_T_T</td>\n",
       "      <td>(self):\\n    dataframe = extractor(os.path.joi...</td>\n",
       "    </tr>\n",
       "    <tr>\n",
       "      <th>8</th>\n",
       "      <td>test_invalid_path</td>\n",
       "      <td>test_extract_path</td>\n",
       "      <td>(self):\\n    self.assertEqual(extractor(os.pat...</td>\n",
       "    </tr>\n",
       "    <tr>\n",
       "      <th>9</th>\n",
       "      <td>test_py_annot_method_names</td>\n",
       "      <td>test_extracted_functions_not_found</td>\n",
       "      <td>(self):\\n    line_data = list([line.rstrip() f...</td>\n",
       "    </tr>\n",
       "    <tr>\n",
       "      <th>10</th>\n",
       "      <td>test_get_report</td>\n",
       "      <td>test_codeextractor_T_T_A</td>\n",
       "      <td>(self):\\n    dataframe = get_report(extractor(...</td>\n",
       "    </tr>\n",
       "    <tr>\n",
       "      <th>11</th>\n",
       "      <td>test_pivot_table</td>\n",
       "      <td>test_pivot_table_html</td>\n",
       "      <td>(self):\\n    res = check_condition('assert', o...</td>\n",
       "    </tr>\n",
       "    <tr>\n",
       "      <th>12</th>\n",
       "      <td>test_cmd_inputs</td>\n",
       "      <td>test_validate_inputs</td>\n",
       "      <td>(self):\\n    validate_inputs(os.path.join(os.p...</td>\n",
       "    </tr>\n",
       "    <tr>\n",
       "      <th>13</th>\n",
       "      <td>test_extractor_cmd</td>\n",
       "      <td>test_functiondefextractor</td>\n",
       "      <td>(self):\\n    cmd = ('python -m functiondefextr...</td>\n",
       "    </tr>\n",
       "  </tbody>\n",
       "</table>\n",
       "</div>"
      ],
      "text/plain": [
       "                        functionName  \\\n",
       "0                       get_log_data   \n",
       "1              test_filter_reg_files   \n",
       "2            test_get_function_names   \n",
       "3                 test_get_func_body   \n",
       "4                    test_process_ad   \n",
       "5               test_process_extract   \n",
       "6                 test_process_annot   \n",
       "7   test_process_python_test_extract   \n",
       "8                  test_invalid_path   \n",
       "9         test_py_annot_method_names   \n",
       "10                   test_get_report   \n",
       "11                  test_pivot_table   \n",
       "12                   test_cmd_inputs   \n",
       "13                test_extractor_cmd   \n",
       "\n",
       "                         functionGeneratedName  \\\n",
       "0                              get_line_number   \n",
       "1                        test_filter_reg_files   \n",
       "2                      test_get_function_names   \n",
       "3      test_restore_streams_with_function_body   \n",
       "4                   test_codeextractor_T_T_A_D   \n",
       "5                     test_codeextractor_T_T_A   \n",
       "6   test_codeextractor_annotated_report_folder   \n",
       "7                       test_codeextractor_T_T   \n",
       "8                            test_extract_path   \n",
       "9           test_extracted_functions_not_found   \n",
       "10                    test_codeextractor_T_T_A   \n",
       "11                       test_pivot_table_html   \n",
       "12                        test_validate_inputs   \n",
       "13                   test_functiondefextractor   \n",
       "\n",
       "                                         functionCode  \n",
       "0   (line):\\n    ini_path = os.path.abspath(os.pat...  \n",
       "1   (self):\\n    files = get_file_names(self.src_f...  \n",
       "2   (self):\\n    (func, line_num) = get_function_n...  \n",
       "3   (self):\\n    func_body = get_func_body(os.path...  \n",
       "4   (self):\\n    dataframe = extractor(os.path.joi...  \n",
       "5   (self):\\n    dataframe = extractor(os.path.joi...  \n",
       "6   (self):\\n    dataframe = extractor(os.path.joi...  \n",
       "7   (self):\\n    dataframe = extractor(os.path.joi...  \n",
       "8   (self):\\n    self.assertEqual(extractor(os.pat...  \n",
       "9   (self):\\n    line_data = list([line.rstrip() f...  \n",
       "10  (self):\\n    dataframe = get_report(extractor(...  \n",
       "11  (self):\\n    res = check_condition('assert', o...  \n",
       "12  (self):\\n    validate_inputs(os.path.join(os.p...  \n",
       "13  (self):\\n    cmd = ('python -m functiondefextr...  "
      ]
     },
     "execution_count": 10,
     "metadata": {},
     "output_type": "execute_result"
    }
   ],
   "source": [
    "regen_names = [run_seq2seq_model(code)[0] for code in functions['functionCode']]\n",
    "functions[\"functionGeneratedName\"] = regen_names\n",
    "functions[[\"functionName\", \"functionGeneratedName\", \"functionCode\"]]"
   ]
  },
  {
   "cell_type": "markdown",
   "id": "278aed99-384d-44f1-981f-f7f08b6db0af",
   "metadata": {},
   "source": [
    "It grasps that all of the functions are from a test module and pretty much all of them have at least somewhat logical name\n",
    "Some are exact, because the code stucture is obvious\n",
    "However 4, 5, 7, 10 are kind of weird"
   ]
  },
  {
   "cell_type": "code",
   "execution_count": 11,
   "id": "61061c01-3ac9-415a-9f8a-7193ea360763",
   "metadata": {},
   "outputs": [
    {
     "name": "stdout",
     "output_type": "stream",
     "text": [
      "def test_codeextractor_T_T_A_D (self):\n",
      "    dataframe = extractor(os.path.join(self.file_path, 'test_resource', 'test_repo'), annot='@Test', delta='5')\n",
      "    df2_list = pd.read_excel(os.path.join(os.path.dirname(__file__), os.pardir, 'test_resource', 'codeextractor_T_T_A_D.xlsx')).sort_values('Uniq ID')\n",
      "    dataframe['Code'] = dataframe['Code'].str.replace(os.linesep, '')\n",
      "    df2_list['Code'] = df2_list['Code'].str.replace('\\n', '')\n",
      "    self.assertTrue(dataframe['Code'].equals(df2_list['Code']))\n",
      "\n"
     ]
    }
   ],
   "source": [
    "line = 4\n",
    "print(f\"def {functions.iloc[line]['functionGeneratedName']} {functions.iloc[line]['functionCode']}\")"
   ]
  },
  {
   "cell_type": "markdown",
   "id": "eeb8ac6c-470b-4f83-8340-6ed169902ba7",
   "metadata": {},
   "source": [
    "So it's not like he invents that terrible acronym, it's still sourced from the code\n",
    "\n",
    "Let's take a look at a semi-logical one, like 13"
   ]
  },
  {
   "cell_type": "code",
   "execution_count": 12,
   "id": "77ee2b18-be8b-4732-a242-a8b55ce9a8e1",
   "metadata": {},
   "outputs": [
    {
     "name": "stdout",
     "output_type": "stream",
     "text": [
      "def test_functiondefextractor (self):\n",
      "    cmd = ('python -m functiondefextractor --p \"%s\"' % os.path.join(self.file_path, 'test_resource', 'test_repo', 'test'))\n",
      "    subprocess.Popen(cmd, shell=True, stdout=subprocess.PIPE)\n",
      "    my_dir = os.path.join(os.path.dirname(__file__), os.pardir, 'test_resource', 'test_repo', 'test')\n",
      "    for fname in os.listdir(my_dir):\n",
      "        if fname.startswith('ExtractedFunc_'):\n",
      "            df1_list = pd.read_excel(fname).sort_values('Uniq ID')\n",
      "            df2_list = pd.read_excel(os.path.join(os.path.dirname(__file__), os.pardir, 'test_resource', 'Extracted_java.xlsx')).sort_values('Uniq ID')\n",
      "            df1_list['Code'] = df1_list['Code'].str.replace(os.linesep, '')\n",
      "            df2_list['Code'] = df2_list['Code'].str.replace(os.linesep, '')\n",
      "            df2_list['Code'] = df2_list['Code'].str.replace('\\r', '')\n",
      "            self.assertEqual(df1_list['Code'].values.tolist().sort(), df2_list['Code'].values.tolist().sort())\n",
      "\n"
     ]
    }
   ],
   "source": [
    "line = 13\n",
    "print(f\"def {functions.iloc[line]['functionGeneratedName']} {functions.iloc[line]['functionCode']}\")"
   ]
  },
  {
   "cell_type": "markdown",
   "id": "d999b6f0-f72a-4272-b02d-e893757c94e5",
   "metadata": {},
   "source": [
    "Huh, so it was not such a smart made-up name after all, the model sources it directly from the cmd code too"
   ]
  },
  {
   "cell_type": "code",
   "execution_count": 13,
   "id": "2e988f2c-3de7-4f13-b964-a498dba4be16",
   "metadata": {},
   "outputs": [
    {
     "name": "stdout",
     "output_type": "stream",
     "text": [
      "def test_filter_reg_files (self):\n",
      "    files = get_file_names(self.src_files)\n",
      "    filter_files = filter_reg_files(files, '*.py,*.cpp,*.js,*.ts')\n",
      "    expected = [os.path.join(self.src_files, 'CerberusTest.java'), os.path.join(self.src_files, 'HelloController.java'), os.path.join(self.src_files, 'test_c.c'), os.path.join(self.src_files, 'test_repo.java')]\n",
      "    self.assertEqual(set(expected), set(filter_files))\n",
      "\n"
     ]
    }
   ],
   "source": [
    "line = 1\n",
    "print(f\"def {functions.iloc[line]['functionGeneratedName']} {functions.iloc[line]['functionCode']}\")"
   ]
  },
  {
   "cell_type": "markdown",
   "id": "812cfafe-84ea-4c9a-a1ba-ac4ce252cdcb",
   "metadata": {
    "tags": []
   },
   "source": [
    "# Test 2 - School exam time\n",
    "Let's see how well the model will handle random trivial functions that are based on school-level knowledge"
   ]
  },
  {
   "cell_type": "markdown",
   "id": "e31908be-988e-4932-8a0f-348a4f405e27",
   "metadata": {},
   "source": [
    "Let's start with Heron's triangle area function"
   ]
  },
  {
   "cell_type": "code",
   "execution_count": 14,
   "id": "bb8051ba-8932-4b94-89b2-079698bad12d",
   "metadata": {},
   "outputs": [
    {
     "name": "stdout",
     "output_type": "stream",
     "text": [
      "calc_area\n"
     ]
    }
   ],
   "source": [
    "mystery_function = \"\"\"(a, b, c):\n",
    "    s = (a + b + c) / 2\n",
    "    area = math.sqrt(s * (s - a) * (s - b) * (s - c))\n",
    "    return area\"\"\"\n",
    "\n",
    "print(run_seq2seq_model(mystery_function)[0])"
   ]
  },
  {
   "cell_type": "markdown",
   "id": "1ae5d6d7-692b-4712-af5d-3c7e8fe8152b",
   "metadata": {},
   "source": [
    "Well it makes sense but the answer is rather obvious when you have \"area\" variable as a result\n",
    "\n",
    "Maybe with a little bit more obfuscation?"
   ]
  },
  {
   "cell_type": "code",
   "execution_count": 15,
   "id": "2035b8ab-bf84-4a92-8663-b6e6ddc57e00",
   "metadata": {},
   "outputs": [
    {
     "name": "stdout",
     "output_type": "stream",
     "text": [
      "distance\n"
     ]
    }
   ],
   "source": [
    "mystery_function = \"\"\"(a, b, c):\n",
    "    s = (a + b + c) / 2\n",
    "    return math.sqrt(s * (s - a) * (s - b) * (s - c))\"\"\"\n",
    "\n",
    "print(run_seq2seq_model(mystery_function)[0])"
   ]
  },
  {
   "cell_type": "markdown",
   "id": "62830d1d-7532-46f9-9f6e-7b7455d2f32e",
   "metadata": {},
   "source": [
    "It understood the geometry theme (probably based on sqrt) but did not have enough knowledge to understand the exact formula \n",
    "\n",
    "How about a different variant of triangle area"
   ]
  },
  {
   "cell_type": "code",
   "execution_count": 16,
   "id": "d5b78cdd-df38-405b-80ae-3efbb08838a5",
   "metadata": {},
   "outputs": [
    {
     "name": "stdout",
     "output_type": "stream",
     "text": [
      "center\n"
     ]
    }
   ],
   "source": [
    "mystery_function = \"\"\"(base, height):\n",
    "    return base * height / 2\"\"\"\n",
    "\n",
    "print(run_seq2seq_model(mystery_function)[0])"
   ]
  },
  {
   "cell_type": "markdown",
   "id": "873b00a6-8062-4b7c-baba-b136adf47aa7",
   "metadata": {},
   "source": [
    "Same story - right theme yet wrong concept\n",
    "\n",
    "Let's try some math"
   ]
  },
  {
   "cell_type": "code",
   "execution_count": 17,
   "id": "66835f14-71e5-48f2-922a-7e85df654f53",
   "metadata": {},
   "outputs": [
    {
     "name": "stdout",
     "output_type": "stream",
     "text": [
      "is_prime_number\n"
     ]
    }
   ],
   "source": [
    "mystery_function = \"\"\"(n):\n",
    "  for i in range(2,n):\n",
    "    if (n%i) == 0:\n",
    "      return False\n",
    "  return True\"\"\"\n",
    "\n",
    "print(run_seq2seq_model(mystery_function)[0])"
   ]
  },
  {
   "cell_type": "code",
   "execution_count": 22,
   "id": "72bb7cd6-8626-4e1e-a5e1-dc7f751019ed",
   "metadata": {},
   "outputs": [
    {
     "name": "stdout",
     "output_type": "stream",
     "text": [
      "print_fibonacci\n"
     ]
    }
   ],
   "source": [
    "mystery_function = \"\"\"(length):\n",
    "    first = 0\n",
    "    second = 1\n",
    "    print(first, second)\n",
    "    length -= 2\n",
    "    while length > 0:\n",
    "        print(first + second, end=\" \")\n",
    "        temp = second\n",
    "        second = first + second\n",
    "        first = temp\n",
    "        length -= 1\"\"\"\n",
    "\n",
    "print(run_seq2seq_model(mystery_function)[0])"
   ]
  },
  {
   "cell_type": "markdown",
   "id": "d1ce41d3-7f86-4ffa-b0f5-e248c17583da",
   "metadata": {},
   "source": [
    "Nice."
   ]
  },
  {
   "cell_type": "code",
   "execution_count": 20,
   "id": "39f1c34c-7e6f-48da-8057-76490af29fbc",
   "metadata": {},
   "outputs": [
    {
     "name": "stdout",
     "output_type": "stream",
     "text": [
      "compare_arrays\n"
     ]
    }
   ],
   "source": [
    "mystery_function = \"\"\"(actual, predicted):\n",
    "    actual = np.array(actual)\n",
    "    predicted = np.array(predicted)\n",
    "    differences = np.subtract(actual, predicted)\n",
    "    squared_differences = np.square(differences)\n",
    "    return np.sqrt(squared_differences.mean())\"\"\"\n",
    "\n",
    "print(run_seq2seq_model(mystery_function)[0])"
   ]
  },
  {
   "cell_type": "markdown",
   "id": "a24d00c4-0256-46bd-8c91-ec47b4428a07",
   "metadata": {},
   "source": [
    "It was RMSE but array comparison kind of makes sense"
   ]
  },
  {
   "cell_type": "code",
   "execution_count": 27,
   "id": "8662900b-8d2c-4dab-b29c-9f4d786ae42f",
   "metadata": {},
   "outputs": [
    {
     "name": "stdout",
     "output_type": "stream",
     "text": [
      "plot_functions\n"
     ]
    }
   ],
   "source": [
    "mystery_function = \"\"\"():\n",
    "    x = np.linspace(-5,5,100)\n",
    "\n",
    "    # the function, which is y = x^2 here \n",
    "    y = x**2\n",
    "\n",
    "    # setting the axes at the centre\n",
    "    fig = plt.figure()\n",
    "    ax = fig.add_subplot(1, 1, 1)\n",
    "    ax.spines['left'].set_position('center')\n",
    "    ax.spines['bottom'].set_position('zero')\n",
    "    ax.spines['right'].set_color('none')\n",
    "    ax.spines['top'].set_color('none')\n",
    "    \n",
    "    ax.xaxis.set_ticks_position('bottom')\n",
    "    ax.yaxis.set_ticks_position('left')\n",
    "\n",
    "    plt.plot(x,y, 'r')\n",
    "\n",
    "    plt.show()\"\"\"\n",
    "\n",
    "print(run_seq2seq_model(mystery_function)[0])"
   ]
  },
  {
   "cell_type": "markdown",
   "id": "22b33826-420b-4631-a322-2c901e7bb481",
   "metadata": {},
   "source": [
    "We actually plot a parabola but good enough"
   ]
  },
  {
   "cell_type": "markdown",
   "id": "33056646-3cc1-448b-8f84-a825226e140c",
   "metadata": {
    "tags": []
   },
   "source": [
    "# Test 3 - Into the wild!\n",
    "\n",
    "For this test, we will use later part of the python code dataset (post-100k),\n",
    "which was not used in the train/val. We'll find some short- (up to 15 chars), medium (16-30) and long-named (31+) functions and see how model will regenerate them"
   ]
  },
  {
   "cell_type": "code",
   "execution_count": 28,
   "id": "1e9b5095-8513-4643-8ae8-ccdd4a76486c",
   "metadata": {},
   "outputs": [
    {
     "data": {
      "text/html": [
       "<div>\n",
       "<style scoped>\n",
       "    .dataframe tbody tr th:only-of-type {\n",
       "        vertical-align: middle;\n",
       "    }\n",
       "\n",
       "    .dataframe tbody tr th {\n",
       "        vertical-align: top;\n",
       "    }\n",
       "\n",
       "    .dataframe thead th {\n",
       "        text-align: right;\n",
       "    }\n",
       "</style>\n",
       "<table border=\"1\" class=\"dataframe\">\n",
       "  <thead>\n",
       "    <tr style=\"text-align: right;\">\n",
       "      <th></th>\n",
       "      <th>functionName</th>\n",
       "      <th>functionArgs</th>\n",
       "      <th>functionCode</th>\n",
       "    </tr>\n",
       "  </thead>\n",
       "  <tbody>\n",
       "    <tr>\n",
       "      <th>0</th>\n",
       "      <td>load_label</td>\n",
       "      <td>[label_file]</td>\n",
       "      <td>(label_file):\\n    with open(label_file) as f:...</td>\n",
       "    </tr>\n",
       "    <tr>\n",
       "      <th>1</th>\n",
       "      <td>load_content</td>\n",
       "      <td>[file_name]</td>\n",
       "      <td>(file_name):\\n    with open(file_name) as f:\\n...</td>\n",
       "    </tr>\n",
       "    <tr>\n",
       "      <th>2</th>\n",
       "      <td>__init__</td>\n",
       "      <td>[self, aspell_executable, language]</td>\n",
       "      <td>(self, aspell_executable, language='en'):\\n   ...</td>\n",
       "    </tr>\n",
       "    <tr>\n",
       "      <th>3</th>\n",
       "      <td>_spawn_aspell</td>\n",
       "      <td>[self, aspell_executable, language]</td>\n",
       "      <td>(self, aspell_executable, language):\\n    args...</td>\n",
       "    </tr>\n",
       "    <tr>\n",
       "      <th>4</th>\n",
       "      <td>__del__</td>\n",
       "      <td>[self]</td>\n",
       "      <td>(self):\\n    if self._subprocess:\\n        sel...</td>\n",
       "    </tr>\n",
       "    <tr>\n",
       "      <th>...</th>\n",
       "      <td>...</td>\n",
       "      <td>...</td>\n",
       "      <td>...</td>\n",
       "    </tr>\n",
       "    <tr>\n",
       "      <th>16788</th>\n",
       "      <td>find_largest_sq_ana</td>\n",
       "      <td>[tass, squares]</td>\n",
       "      <td>(tass, squares):\\n    S = []\\n    for s in tas...</td>\n",
       "    </tr>\n",
       "    <tr>\n",
       "      <th>16789</th>\n",
       "      <td>find_ana_sq</td>\n",
       "      <td>[tass, squares]</td>\n",
       "      <td>(tass, squares):\\n    all_sq_ana = find_larges...</td>\n",
       "    </tr>\n",
       "    <tr>\n",
       "      <th>16790</th>\n",
       "      <td>__init__</td>\n",
       "      <td>[self, name, path, drive_type, site_id]</td>\n",
       "      <td>(self, name=None, path=None, drive_type=None, ...</td>\n",
       "    </tr>\n",
       "    <tr>\n",
       "      <th>16791</th>\n",
       "      <td>from_docker_envvars</td>\n",
       "      <td>[config]</td>\n",
       "      <td>(config):\\n    if ('PG_PORT' in os.environ):\\n...</td>\n",
       "    </tr>\n",
       "    <tr>\n",
       "      <th>16792</th>\n",
       "      <td>__init__</td>\n",
       "      <td>[]</td>\n",
       "      <td>(*args, **kw):\\n    Component.__init__(*args, ...</td>\n",
       "    </tr>\n",
       "  </tbody>\n",
       "</table>\n",
       "<p>16793 rows × 3 columns</p>\n",
       "</div>"
      ],
      "text/plain": [
       "              functionName                             functionArgs  \\\n",
       "0               load_label                             [label_file]   \n",
       "1             load_content                              [file_name]   \n",
       "2                 __init__      [self, aspell_executable, language]   \n",
       "3            _spawn_aspell      [self, aspell_executable, language]   \n",
       "4                  __del__                                   [self]   \n",
       "...                    ...                                      ...   \n",
       "16788  find_largest_sq_ana                          [tass, squares]   \n",
       "16789          find_ana_sq                          [tass, squares]   \n",
       "16790             __init__  [self, name, path, drive_type, site_id]   \n",
       "16791  from_docker_envvars                                 [config]   \n",
       "16792             __init__                                       []   \n",
       "\n",
       "                                            functionCode  \n",
       "0      (label_file):\\n    with open(label_file) as f:...  \n",
       "1      (file_name):\\n    with open(file_name) as f:\\n...  \n",
       "2      (self, aspell_executable, language='en'):\\n   ...  \n",
       "3      (self, aspell_executable, language):\\n    args...  \n",
       "4      (self):\\n    if self._subprocess:\\n        sel...  \n",
       "...                                                  ...  \n",
       "16788  (tass, squares):\\n    S = []\\n    for s in tas...  \n",
       "16789  (tass, squares):\\n    all_sq_ana = find_larges...  \n",
       "16790  (self, name=None, path=None, drive_type=None, ...  \n",
       "16791  (config):\\n    if ('PG_PORT' in os.environ):\\n...  \n",
       "16792  (*args, **kw):\\n    Component.__init__(*args, ...  \n",
       "\n",
       "[16793 rows x 3 columns]"
      ]
     },
     "execution_count": 28,
     "metadata": {},
     "output_type": "execute_result"
    }
   ],
   "source": [
    "giga_df = pd.read_parquet(\"pyfunc_272k.parquet\")\n",
    "\n",
    "#take last 20k\n",
    "giga_df = giga_df.tail(20000)\n",
    "\n",
    "#filter ones that have tags and have function decorators\n",
    "filt_df = giga_df[giga_df['functionCode'].str.startswith(\"\\n\\ndef \")].reset_index(drop=True)\n",
    "\n",
    "#preprocess body\n",
    "filt_df['functionCode'] = [s[s.find('('):] for s in filt_df['functionCode']]\n",
    "\n",
    "filt_df"
   ]
  },
  {
   "cell_type": "code",
   "execution_count": 29,
   "id": "65d721b4-db7f-4e2f-af4d-7dd71169cd82",
   "metadata": {},
   "outputs": [
    {
     "name": "stderr",
     "output_type": "stream",
     "text": [
      "Token indices sequence length is longer than the specified maximum sequence length for this model (615 > 512). Running this sequence through the model will result in indexing errors\n"
     ]
    },
    {
     "data": {
      "text/html": [
       "<div>\n",
       "<style scoped>\n",
       "    .dataframe tbody tr th:only-of-type {\n",
       "        vertical-align: middle;\n",
       "    }\n",
       "\n",
       "    .dataframe tbody tr th {\n",
       "        vertical-align: top;\n",
       "    }\n",
       "\n",
       "    .dataframe thead th {\n",
       "        text-align: right;\n",
       "    }\n",
       "</style>\n",
       "<table border=\"1\" class=\"dataframe\">\n",
       "  <thead>\n",
       "    <tr style=\"text-align: right;\">\n",
       "      <th></th>\n",
       "      <th>functionName</th>\n",
       "      <th>functionGeneratedName</th>\n",
       "      <th>functionCode</th>\n",
       "    </tr>\n",
       "  </thead>\n",
       "  <tbody>\n",
       "    <tr>\n",
       "      <th>0</th>\n",
       "      <td>ParseSpec</td>\n",
       "      <td>GetConformance</td>\n",
       "      <td>(traces, folder, args):\\n    duplicate_names =...</td>\n",
       "    </tr>\n",
       "    <tr>\n",
       "      <th>1</th>\n",
       "      <td>test_fail_once</td>\n",
       "      <td>test__try_send_splunk_max_attempts_and_hex_max...</td>\n",
       "      <td>(self):\\n    self.config['splunk_max_attempts'...</td>\n",
       "    </tr>\n",
       "    <tr>\n",
       "      <th>2</th>\n",
       "      <td>encode_field</td>\n",
       "      <td>encode_field</td>\n",
       "      <td>(self, field, value):\\n    return ('{encoded}'...</td>\n",
       "    </tr>\n",
       "    <tr>\n",
       "      <th>3</th>\n",
       "      <td>main</td>\n",
       "      <td>main</td>\n",
       "      <td>():\\n    argument_spec = dict(group=dict(requi...</td>\n",
       "    </tr>\n",
       "    <tr>\n",
       "      <th>4</th>\n",
       "      <td>set_shuffle</td>\n",
       "      <td>set_shuffle</td>\n",
       "      <td>(self, shuffle):\\n    'Enable/disable shuffle ...</td>\n",
       "    </tr>\n",
       "    <tr>\n",
       "      <th>5</th>\n",
       "      <td>InferError7</td>\n",
       "      <td>yield_error_7</td>\n",
       "      <td>(a, out):\\n\\n    @instance\\n    def logic():\\n...</td>\n",
       "    </tr>\n",
       "    <tr>\n",
       "      <th>6</th>\n",
       "      <td>__init__</td>\n",
       "      <td>set_ports</td>\n",
       "      <td>(self, repo_manager_exe, server_port=0, direct...</td>\n",
       "    </tr>\n",
       "    <tr>\n",
       "      <th>7</th>\n",
       "      <td>on_close</td>\n",
       "      <td>on_close</td>\n",
       "      <td>(self):\\n    print('Listen.on_close', os.getpi...</td>\n",
       "    </tr>\n",
       "    <tr>\n",
       "      <th>8</th>\n",
       "      <td>_get_normal</td>\n",
       "      <td>getNormal</td>\n",
       "      <td>(self, pts):\\n    '\\n        Get normal vector...</td>\n",
       "    </tr>\n",
       "    <tr>\n",
       "      <th>9</th>\n",
       "      <td>sys_wrapper</td>\n",
       "      <td>_setup_sriov_capabilities</td>\n",
       "      <td>(sriovs, vnic_capable=True, vnic_failover_capa...</td>\n",
       "    </tr>\n",
       "  </tbody>\n",
       "</table>\n",
       "</div>"
      ],
      "text/plain": [
       "     functionName                              functionGeneratedName  \\\n",
       "0       ParseSpec                                     GetConformance   \n",
       "1  test_fail_once  test__try_send_splunk_max_attempts_and_hex_max...   \n",
       "2    encode_field                                       encode_field   \n",
       "3            main                                               main   \n",
       "4     set_shuffle                                        set_shuffle   \n",
       "5     InferError7                                      yield_error_7   \n",
       "6        __init__                                          set_ports   \n",
       "7        on_close                                           on_close   \n",
       "8     _get_normal                                          getNormal   \n",
       "9     sys_wrapper                          _setup_sriov_capabilities   \n",
       "\n",
       "                                        functionCode  \n",
       "0  (traces, folder, args):\\n    duplicate_names =...  \n",
       "1  (self):\\n    self.config['splunk_max_attempts'...  \n",
       "2  (self, field, value):\\n    return ('{encoded}'...  \n",
       "3  ():\\n    argument_spec = dict(group=dict(requi...  \n",
       "4  (self, shuffle):\\n    'Enable/disable shuffle ...  \n",
       "5  (a, out):\\n\\n    @instance\\n    def logic():\\n...  \n",
       "6  (self, repo_manager_exe, server_port=0, direct...  \n",
       "7  (self):\\n    print('Listen.on_close', os.getpi...  \n",
       "8  (self, pts):\\n    '\\n        Get normal vector...  \n",
       "9  (sriovs, vnic_capable=True, vnic_failover_capa...  "
      ]
     },
     "execution_count": 29,
     "metadata": {},
     "output_type": "execute_result"
    }
   ],
   "source": [
    "short_sample = filt_df[filt_df[\"functionName\"].str.len() < 15].sample(10).reset_index(drop=True)\n",
    "regen_names = [run_seq2seq_model(code)[0] for code in short_sample['functionCode']]\n",
    "short_sample[\"functionGeneratedName\"] = regen_names\n",
    "short_sample[[\"functionName\", \"functionGeneratedName\", \"functionCode\"]]"
   ]
  },
  {
   "cell_type": "code",
   "execution_count": 30,
   "id": "25a3b808-1d8e-4875-9db8-4eda25e170d0",
   "metadata": {},
   "outputs": [
    {
     "data": {
      "text/html": [
       "<div>\n",
       "<style scoped>\n",
       "    .dataframe tbody tr th:only-of-type {\n",
       "        vertical-align: middle;\n",
       "    }\n",
       "\n",
       "    .dataframe tbody tr th {\n",
       "        vertical-align: top;\n",
       "    }\n",
       "\n",
       "    .dataframe thead th {\n",
       "        text-align: right;\n",
       "    }\n",
       "</style>\n",
       "<table border=\"1\" class=\"dataframe\">\n",
       "  <thead>\n",
       "    <tr style=\"text-align: right;\">\n",
       "      <th></th>\n",
       "      <th>functionName</th>\n",
       "      <th>functionGeneratedName</th>\n",
       "      <th>functionCode</th>\n",
       "    </tr>\n",
       "  </thead>\n",
       "  <tbody>\n",
       "    <tr>\n",
       "      <th>0</th>\n",
       "      <td>get_positive_axis</td>\n",
       "      <td>_normalize_axis</td>\n",
       "      <td>(axis, ndims, axis_name='axis', ndims_name='nd...</td>\n",
       "    </tr>\n",
       "    <tr>\n",
       "      <th>1</th>\n",
       "      <td>test_logarithmic_small_scale</td>\n",
       "      <td>test_logarithmic_small_range</td>\n",
       "      <td>():\\n    'Test logarithmic with a small range ...</td>\n",
       "    </tr>\n",
       "    <tr>\n",
       "      <th>2</th>\n",
       "      <td>update_data_module_name</td>\n",
       "      <td>update_data_module_name</td>\n",
       "      <td>(cr, models, old_name, new_name):\\n    '\\n    ...</td>\n",
       "    </tr>\n",
       "    <tr>\n",
       "      <th>3</th>\n",
       "      <td>create_dockerfile</td>\n",
       "      <td>create_random_dockerfile</td>\n",
       "      <td>(repository, tag):\\n    '\\n    Creates a Docke...</td>\n",
       "    </tr>\n",
       "    <tr>\n",
       "      <th>4</th>\n",
       "      <td>test_user_id_trumps_user</td>\n",
       "      <td>test_user_id_setter</td>\n",
       "      <td>(self):\\n    self.request.headers['X_USER_ID']...</td>\n",
       "    </tr>\n",
       "    <tr>\n",
       "      <th>5</th>\n",
       "      <td>clone_get_equiv</td>\n",
       "      <td>writeme</td>\n",
       "      <td>(self, check_integrity=True):\\n    'WRITEME'\\n...</td>\n",
       "    </tr>\n",
       "    <tr>\n",
       "      <th>6</th>\n",
       "      <td>_verify_controllers</td>\n",
       "      <td>_verify_bridge_col_target</td>\n",
       "      <td>(self, ovsrec_bridge):\\n    ovsrec_bridge.veri...</td>\n",
       "    </tr>\n",
       "    <tr>\n",
       "      <th>7</th>\n",
       "      <td>generate_auth_token</td>\n",
       "      <td>get_signature</td>\n",
       "      <td>(self, expiration=600):\\n    from app import a...</td>\n",
       "    </tr>\n",
       "    <tr>\n",
       "      <th>8</th>\n",
       "      <td>test_key_from_legacy_urlsafe</td>\n",
       "      <td>test_from_legacy_urlsafe</td>\n",
       "      <td>():\\n    from google.cloud.datastore.key impor...</td>\n",
       "    </tr>\n",
       "    <tr>\n",
       "      <th>9</th>\n",
       "      <td>test_destroy_node</td>\n",
       "      <td>test_destroy_node</td>\n",
       "      <td>(self):\\n    status = self.driver.destroy_node...</td>\n",
       "    </tr>\n",
       "  </tbody>\n",
       "</table>\n",
       "</div>"
      ],
      "text/plain": [
       "                   functionName         functionGeneratedName  \\\n",
       "0             get_positive_axis               _normalize_axis   \n",
       "1  test_logarithmic_small_scale  test_logarithmic_small_range   \n",
       "2       update_data_module_name       update_data_module_name   \n",
       "3             create_dockerfile      create_random_dockerfile   \n",
       "4      test_user_id_trumps_user           test_user_id_setter   \n",
       "5               clone_get_equiv                       writeme   \n",
       "6           _verify_controllers     _verify_bridge_col_target   \n",
       "7           generate_auth_token                 get_signature   \n",
       "8  test_key_from_legacy_urlsafe      test_from_legacy_urlsafe   \n",
       "9             test_destroy_node             test_destroy_node   \n",
       "\n",
       "                                        functionCode  \n",
       "0  (axis, ndims, axis_name='axis', ndims_name='nd...  \n",
       "1  ():\\n    'Test logarithmic with a small range ...  \n",
       "2  (cr, models, old_name, new_name):\\n    '\\n    ...  \n",
       "3  (repository, tag):\\n    '\\n    Creates a Docke...  \n",
       "4  (self):\\n    self.request.headers['X_USER_ID']...  \n",
       "5  (self, check_integrity=True):\\n    'WRITEME'\\n...  \n",
       "6  (self, ovsrec_bridge):\\n    ovsrec_bridge.veri...  \n",
       "7  (self, expiration=600):\\n    from app import a...  \n",
       "8  ():\\n    from google.cloud.datastore.key impor...  \n",
       "9  (self):\\n    status = self.driver.destroy_node...  "
      ]
     },
     "execution_count": 30,
     "metadata": {},
     "output_type": "execute_result"
    }
   ],
   "source": [
    "medium_sample = filt_df[filt_df[\"functionName\"].str.len().between(15, 30)].sample(10).reset_index(drop=True)\n",
    "regen_names = [run_seq2seq_model(code)[0] for code in medium_sample['functionCode']]\n",
    "medium_sample[\"functionGeneratedName\"] = regen_names\n",
    "medium_sample[[\"functionName\", \"functionGeneratedName\", \"functionCode\"]]"
   ]
  },
  {
   "cell_type": "code",
   "execution_count": 31,
   "id": "efd6575b-1c88-4d91-a7ae-2833a95ff782",
   "metadata": {},
   "outputs": [
    {
     "data": {
      "text/html": [
       "<div>\n",
       "<style scoped>\n",
       "    .dataframe tbody tr th:only-of-type {\n",
       "        vertical-align: middle;\n",
       "    }\n",
       "\n",
       "    .dataframe tbody tr th {\n",
       "        vertical-align: top;\n",
       "    }\n",
       "\n",
       "    .dataframe thead th {\n",
       "        text-align: right;\n",
       "    }\n",
       "</style>\n",
       "<table border=\"1\" class=\"dataframe\">\n",
       "  <thead>\n",
       "    <tr style=\"text-align: right;\">\n",
       "      <th></th>\n",
       "      <th>functionName</th>\n",
       "      <th>functionGeneratedName</th>\n",
       "      <th>functionCode</th>\n",
       "    </tr>\n",
       "  </thead>\n",
       "  <tbody>\n",
       "    <tr>\n",
       "      <th>0</th>\n",
       "      <td>test_wait_for_drive_state_transition_timeout</td>\n",
       "      <td>test_wait_for_drive_state_transition_timeout</td>\n",
       "      <td>(self):\\n    drive = self.driver.ex_list_user_...</td>\n",
       "    </tr>\n",
       "    <tr>\n",
       "      <th>1</th>\n",
       "      <td>test_post_name_pattern_none_returns_400</td>\n",
       "      <td>test_bad_name</td>\n",
       "      <td>(self):\\n    response = self.client.PxST('/for...</td>\n",
       "    </tr>\n",
       "    <tr>\n",
       "      <th>2</th>\n",
       "      <td>submit_rescore_one_student_answer</td>\n",
       "      <td>submit_rescore_problem_for_student</td>\n",
       "      <td>(self, instructor, problem_url_name, student, ...</td>\n",
       "    </tr>\n",
       "    <tr>\n",
       "      <th>3</th>\n",
       "      <td>test_encode_one_line_eol_after_non_ascii</td>\n",
       "      <td>test_encode_utf8_eol</td>\n",
       "      <td>(self):\\n    self._test_encode('helloυ\\n'.enco...</td>\n",
       "    </tr>\n",
       "    <tr>\n",
       "      <th>4</th>\n",
       "      <td>testSegmentsMultipleStartOverlapAllow</td>\n",
       "      <td>testExpandMultipleSegments</td>\n",
       "      <td>(self):\\n    '\\n        Using start\\n        T...</td>\n",
       "    </tr>\n",
       "    <tr>\n",
       "      <th>5</th>\n",
       "      <td>test_multiple_splittable_leading_char_followed...</td>\n",
       "      <td>test_header_with_maxlinelen_and_thus_should_be...</td>\n",
       "      <td>(self):\\n    eq = self.ndiffAssertEqual\\n    h...</td>\n",
       "    </tr>\n",
       "    <tr>\n",
       "      <th>6</th>\n",
       "      <td>testStrandsMissingAsNegativeEnd</td>\n",
       "      <td>testIgnoreMissingStrand</td>\n",
       "      <td>(self):\\n    '\\n        Using strand, at end. ...</td>\n",
       "    </tr>\n",
       "    <tr>\n",
       "      <th>7</th>\n",
       "      <td>test_splitting_multiple_long_lines</td>\n",
       "      <td>test_header_continuation_ws</td>\n",
       "      <td>(self):\\n    eq = self.ndiffAssertEqual\\n    h...</td>\n",
       "    </tr>\n",
       "    <tr>\n",
       "      <th>8</th>\n",
       "      <td>test_rfc2231_no_language_or_charset_in_boundary</td>\n",
       "      <td>test_message_from_string_boundary</td>\n",
       "      <td>(self):\\n    m = 'Content-Type: multipart/alte...</td>\n",
       "    </tr>\n",
       "    <tr>\n",
       "      <th>9</th>\n",
       "      <td>testGenerateFeatureSplitCandidatesInactive</td>\n",
       "      <td>testGenerateFeatureSplitCandidatesInactive</td>\n",
       "      <td>(self):\\n    with self.cached_session() as ses...</td>\n",
       "    </tr>\n",
       "  </tbody>\n",
       "</table>\n",
       "</div>"
      ],
      "text/plain": [
       "                                        functionName  \\\n",
       "0       test_wait_for_drive_state_transition_timeout   \n",
       "1            test_post_name_pattern_none_returns_400   \n",
       "2                  submit_rescore_one_student_answer   \n",
       "3           test_encode_one_line_eol_after_non_ascii   \n",
       "4              testSegmentsMultipleStartOverlapAllow   \n",
       "5  test_multiple_splittable_leading_char_followed...   \n",
       "6                    testStrandsMissingAsNegativeEnd   \n",
       "7                 test_splitting_multiple_long_lines   \n",
       "8    test_rfc2231_no_language_or_charset_in_boundary   \n",
       "9         testGenerateFeatureSplitCandidatesInactive   \n",
       "\n",
       "                               functionGeneratedName  \\\n",
       "0       test_wait_for_drive_state_transition_timeout   \n",
       "1                                      test_bad_name   \n",
       "2                 submit_rescore_problem_for_student   \n",
       "3                               test_encode_utf8_eol   \n",
       "4                         testExpandMultipleSegments   \n",
       "5  test_header_with_maxlinelen_and_thus_should_be...   \n",
       "6                            testIgnoreMissingStrand   \n",
       "7                        test_header_continuation_ws   \n",
       "8                  test_message_from_string_boundary   \n",
       "9         testGenerateFeatureSplitCandidatesInactive   \n",
       "\n",
       "                                        functionCode  \n",
       "0  (self):\\n    drive = self.driver.ex_list_user_...  \n",
       "1  (self):\\n    response = self.client.PxST('/for...  \n",
       "2  (self, instructor, problem_url_name, student, ...  \n",
       "3  (self):\\n    self._test_encode('helloυ\\n'.enco...  \n",
       "4  (self):\\n    '\\n        Using start\\n        T...  \n",
       "5  (self):\\n    eq = self.ndiffAssertEqual\\n    h...  \n",
       "6  (self):\\n    '\\n        Using strand, at end. ...  \n",
       "7  (self):\\n    eq = self.ndiffAssertEqual\\n    h...  \n",
       "8  (self):\\n    m = 'Content-Type: multipart/alte...  \n",
       "9  (self):\\n    with self.cached_session() as ses...  "
      ]
     },
     "execution_count": 31,
     "metadata": {},
     "output_type": "execute_result"
    }
   ],
   "source": [
    "long_sample = filt_df[filt_df[\"functionName\"].str.len() > 30].sample(10).reset_index(drop=True)\n",
    "regen_names = [run_seq2seq_model(code)[0] for code in long_sample['functionCode']]\n",
    "long_sample[\"functionGeneratedName\"] = regen_names\n",
    "long_sample[[\"functionName\", \"functionGeneratedName\", \"functionCode\"]]"
   ]
  },
  {
   "cell_type": "markdown",
   "id": "909c6667-3403-444a-a779-39b4f0ef6649",
   "metadata": {},
   "source": [
    "# Conclusion\n",
    "\n",
    "This 2-epoch 80k fine-tune of Salesforces' CodeT5 is not perfect but more often than not it nails the generation spot-on, with bigger corpus, train time (still only 80k example functions are used here, the full HF dataset has like 50M) and maybe larger model (+ playing with generation parameters) and maybe switching to top-5 recommendations, the results may be drastically improved even without the inclusion of GPTs (which tend to act more chaotic), as a proof-of-concept it acts satisfactory."
   ]
  }
 ],
 "metadata": {
  "kernelspec": {
   "display_name": "Python 3 (ipykernel)",
   "language": "python",
   "name": "python3"
  },
  "language_info": {
   "codemirror_mode": {
    "name": "ipython",
    "version": 3
   },
   "file_extension": ".py",
   "mimetype": "text/x-python",
   "name": "python",
   "nbconvert_exporter": "python",
   "pygments_lexer": "ipython3",
   "version": "3.8.8"
  }
 },
 "nbformat": 4,
 "nbformat_minor": 5
}
